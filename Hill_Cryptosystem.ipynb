{
 "metadata": {
  "name": "",
  "signature": "sha256:f25b0dd1e2a846f3492ff8ec4188b940c47eff792e8c79ac7f3431cb4621ef7a"
 },
 "nbformat": 3,
 "nbformat_minor": 0,
 "worksheets": [
  {
   "cells": [
    {
     "cell_type": "code",
     "collapsed": false,
     "input": [
      "%pylab inline\n",
      "import numpy as np\n",
      "##Hill kriptosystem\n",
      "##This cypher uses a square matrix A as a key.The matriz should be invertible mod(len(alphabet))\n",
      "##That implies det(A)=k mod m, with k relatively prime of m.\n",
      "\n",
      "# Greatest common divisor. Code from Lib/fractions.py\n",
      "def gcd(a,b):\n",
      "    while b:\n",
      "        a, b = b, a%b\n",
      "    return a\n",
      "\n"
     ],
     "language": "python",
     "metadata": {},
     "outputs": [
      {
       "output_type": "stream",
       "stream": "stdout",
       "text": [
        "Populating the interactive namespace from numpy and matplotlib\n"
       ]
      }
     ],
     "prompt_number": 289
    },
    {
     "cell_type": "code",
     "collapsed": false,
     "input": [
      "def key_gen(klen):\n",
      "    rel_prime = False\n",
      "    num = 0\n",
      "    count=0\n",
      "    while not rel_prime:\n",
      "        A=floor(np.random.random_sample((klen,klen))*26)\n",
      "        det=np.linalg.det(A)%26\n",
      "        if det!=0:\n",
      "            num=gcd(det,26)\n",
      "            if num ==1:\n",
      "                rel_prime=True\n",
      "    return A\n",
      "    "
     ],
     "language": "python",
     "metadata": {},
     "outputs": [],
     "prompt_number": 290
    },
    {
     "cell_type": "code",
     "collapsed": false,
     "input": [
      "key_gen(3)\n"
     ],
     "language": "python",
     "metadata": {},
     "outputs": [
      {
       "metadata": {},
       "output_type": "pyout",
       "prompt_number": 291,
       "text": [
        "array([[ 25.,   3.,   9.],\n",
        "       [ 14.,  15.,   7.],\n",
        "       [  2.,  18.,   5.]])"
       ]
      }
     ],
     "prompt_number": 291
    },
    {
     "cell_type": "code",
     "collapsed": false,
     "input": [
      "def hill_cryp(key,ptext):\n",
      "    C=0\n",
      "    ctext=''\n",
      "    abecedary='abcdefghijklmnopqrstuvwxyz'\n",
      "    lkey=len(key)\n",
      "    \n",
      "    ##Text filling\n",
      "    while len(ptext)%lkey!=0:\n",
      "        ptext+=abecedary[13]\n",
      "    \n",
      "    ##Plaintext matrix\n",
      "    P=np.zeros((lkey,len(ptext)/2))\n",
      "    count=0\n",
      "    for j in range(len(ptext)/2):\n",
      "        for i in range(lkey):        \n",
      "            P[i,j]=abecedary.find(ptext[count])\n",
      "            count+=1\n",
      "    ##Multiplication\n",
      "    C=(key*P)%len(abecedary)\n",
      "    for j in range(len(ptext)/2):\n",
      "        for i in range(lkey):        \n",
      "            ctext+=abecedary[int(C[i,j])]\n",
      "    return ctext.upper()"
     ],
     "language": "python",
     "metadata": {},
     "outputs": [],
     "prompt_number": 292
    },
    {
     "cell_type": "code",
     "collapsed": false,
     "input": [
      "key=np.matrix([[1,2],[1,3]])\n",
      "print key"
     ],
     "language": "python",
     "metadata": {},
     "outputs": [
      {
       "output_type": "stream",
       "stream": "stdout",
       "text": [
        "[[1 2]\n",
        " [1 3]]\n"
       ]
      }
     ],
     "prompt_number": 293
    },
    {
     "cell_type": "code",
     "collapsed": false,
     "input": [
      "hill_cryp(key,'codebluealert')"
     ],
     "language": "python",
     "metadata": {},
     "outputs": [
      {
       "metadata": {},
       "output_type": "pyout",
       "prompt_number": 294,
       "text": [
        "'ESLPXICGWHMDTG'"
       ]
      }
     ],
     "prompt_number": 294
    },
    {
     "cell_type": "code",
     "collapsed": false,
     "input": [
      "def hill_decryp(key,ctext):\n",
      "    P=0\n",
      "    ptext=''\n",
      "    abecedary='abcdefghijklmnopqrstuvwxyz'\n",
      "    lkey=len(key)\n",
      "    ctext=ctext.lower()\n",
      "    ##Cyphertext matrix\n",
      "    C=np.zeros((lkey,len(ctext)/2))\n",
      "    count=0\n",
      "    for j in range(len(ctext)/2):\n",
      "        for i in range(lkey):        \n",
      "            C[i,j]=abecedary.find(ctext[count])\n",
      "            count+=1\n",
      "    ##Inverse key\n",
      "    nkey=np.linalg.inv(key)\n",
      "    ##Multiplication\n",
      "    P=(nkey*C)%len(abecedary)\n",
      "    for j in range(len(ctext)/2):\n",
      "        for i in range(lkey):        \n",
      "            ptext+=abecedary[int(P[i,j])]\n",
      "    return ptext"
     ],
     "language": "python",
     "metadata": {},
     "outputs": [],
     "prompt_number": 295
    },
    {
     "cell_type": "code",
     "collapsed": false,
     "input": [
      "hill_decryp(key,'ESLPXICGWHMDTG')"
     ],
     "language": "python",
     "metadata": {},
     "outputs": [
      {
       "metadata": {},
       "output_type": "pyout",
       "prompt_number": 296,
       "text": [
        "'codebluealertn'"
       ]
      }
     ],
     "prompt_number": 296
    },
    {
     "cell_type": "code",
     "collapsed": false,
     "input": [],
     "language": "python",
     "metadata": {},
     "outputs": [],
     "prompt_number": 296
    },
    {
     "cell_type": "code",
     "collapsed": false,
     "input": [],
     "language": "python",
     "metadata": {},
     "outputs": []
    }
   ],
   "metadata": {}
  }
 ]
}