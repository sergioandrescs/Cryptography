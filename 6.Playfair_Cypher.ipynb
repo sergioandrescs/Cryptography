{
 "metadata": {
  "name": "",
  "signature": "sha256:cb0677cf73ff58ea090dee9a2c25abc3f9fd08d13f84a218cd426b8c64f505e6"
 },
 "nbformat": 3,
 "nbformat_minor": 0,
 "worksheets": [
  {
   "cells": [
    {
     "cell_type": "code",
     "collapsed": false,
     "input": [
      "%pylab inline\n",
      "import numpy as np\n",
      "from __future__ import division\n",
      "#Playfair Cypher\n",
      "#This cypher uses a square matrix, and works as a substitution, as well a a transposition cypher.\n",
      "#Remember that i and j come together"
     ],
     "language": "python",
     "metadata": {},
     "outputs": [
      {
       "output_type": "stream",
       "stream": "stdout",
       "text": [
        "Populating the interactive namespace from numpy and matplotlib\n"
       ]
      }
     ],
     "prompt_number": 29
    },
    {
     "cell_type": "code",
     "collapsed": false,
     "input": [
      "def paircyp(pair):\n",
      "    l1 = l2 = 0\n",
      "    c1 = c2 = 0\n",
      "    pair = pair.replace('j','i')\n",
      "    l1=abecedary.find(pair[0])\n",
      "    l2=abecedary.find(pair[1])    \n",
      "    \n",
      "    ##Playfair matrix\n",
      "    M=np.zeros((5,5))\n",
      "    count=0\n",
      "    for i in range(5):\n",
      "        for j in range(5):        \n",
      "            M[i,j]=count\n",
      "            count+=1\n",
      "        \n",
      "    c1 = int((l1-(l1%5))/5),l1%5\n",
      "    c2 = int((l2-(l2%5))/5),l2%5\n",
      "    \n",
      "    if c1[0]==c2[0]:\n",
      "        return abecedary[int(M[c1[0],(c1[1]+1)%5])]+abecedary[int(M[c2[0],(c2[1]+1)%5])]        \n",
      "    elif c1[1]==c2[1]:\n",
      "        return abecedary[int(M[(c1[0]+1)%5,c1[1]])]+abecedary[int(M[(c2[0]+1)%5,c2[1]])] \n",
      "    else:\n",
      "        return abecedary[int(M[c1[0],c2[1]])]+abecedary[int(M[c2[0],c1[1]])]"
     ],
     "language": "python",
     "metadata": {},
     "outputs": [],
     "prompt_number": 30
    },
    {
     "cell_type": "code",
     "collapsed": false,
     "input": [
      "##The next function takes pair of letters from the plaintext\n",
      "def pttopr(pltext):\n",
      "    mlist=[]\n",
      "    pairlist=[]\n",
      "    addx=False\n",
      "\n",
      "    for j in range(len(pltext)):\n",
      "        mlist.append(pltext[j])\n",
      "    if len(mlist)%2!=0:\n",
      "        mlist.append('x')\n",
      "        addx=True\n",
      "    i=0\n",
      "\n",
      "    while i<len(mlist):\n",
      "        if mlist[i]!=mlist[i+1]:\n",
      "            pairlist.append(mlist[i]+mlist[i+1])\n",
      "        else:\n",
      "            mlist.insert(i+1,'x')\n",
      "            if addx:\n",
      "                mlist.pop()\n",
      "                addx = not addx\n",
      "            else:\n",
      "                mlist.append('x')\n",
      "                addx= not addx\n",
      "            pairlist.append(mlist[i]+mlist[i+1])      \n",
      "        i+=2\n",
      "    return pairlist"
     ],
     "language": "python",
     "metadata": {},
     "outputs": [],
     "prompt_number": 31
    },
    {
     "cell_type": "code",
     "collapsed": false,
     "input": [
      "def playfair(key,message):    \n",
      "    ##New abecedary for new key\n",
      "    key = key.replace('j','i')\n",
      "    nkey=''\n",
      "    global abecedary\n",
      "    abecedary = 'abcdefghiklmnopqrstuvwxyz'\n",
      "    for i in range(len(key)):\n",
      "        if abecedary.count(key[i])>0:\n",
      "            abecedary = abecedary.replace(key[i],'')\n",
      "        if nkey.find(key[i])<0:\n",
      "            nkey+=key[i]\n",
      "    abecedary = nkey + abecedary\n",
      "\n",
      "    #Pair encoding        \n",
      "    pairl=pttopr(message)\n",
      "    cytext=''\n",
      "    for i in pairl:\n",
      "        cytext+=paircyp(i)\n",
      "    return cytext.upper()"
     ],
     "language": "python",
     "metadata": {},
     "outputs": [],
     "prompt_number": 32
    },
    {
     "cell_type": "code",
     "collapsed": false,
     "input": [
      "message='theicemanwillarriveatmidnight'\n",
      "key='basketball'\n",
      "cytextt = playfair(key,message)\n",
      "print cytextt\n"
     ],
     "language": "python",
     "metadata": {},
     "outputs": [
      {
       "output_type": "stream",
       "stream": "stdout",
       "text": [
        "LGSNFSHKHZHCHLQYQMZBBLNMFMMHGL\n"
       ]
      }
     ],
     "prompt_number": 33
    },
    {
     "cell_type": "code",
     "collapsed": false,
     "input": [
      "def pairdecyp(pair):\n",
      "    l1 = l2 = 0\n",
      "    c1 = c2 = 0\n",
      "    l1=abecedary.find(pair[0])\n",
      "    l2=abecedary.find(pair[1])\n",
      "    \n",
      "    ##Playfair matrix\n",
      "    M=np.zeros((5,5))\n",
      "    count=0\n",
      "    for i in range(5):\n",
      "        for j in range(5):        \n",
      "            M[i,j]=count\n",
      "            count+=1\n",
      "        \n",
      "    c1 = int((l1-(l1%5))/5),l1%5\n",
      "    c2 = int((l2-(l2%5))/5),l2%5\n",
      "    \n",
      "    if c1[0]==c2[0]:\n",
      "        return abecedary[int(M[c1[0],(c1[1]-1)%5])]+abecedary[int(M[c2[0],(c2[1]-1)%5])]        \n",
      "    elif c1[1]==c2[1]:\n",
      "        return abecedary[int(M[(c1[0]-1)%5,c1[1]])]+abecedary[int(M[(c2[0]-1)%5,c2[1]])] \n",
      "    else:\n",
      "        return abecedary[int(M[c1[0],c2[1]])]+abecedary[int(M[c2[0],c1[1]])]"
     ],
     "language": "python",
     "metadata": {},
     "outputs": [],
     "prompt_number": 34
    },
    {
     "cell_type": "code",
     "collapsed": false,
     "input": [
      "def cytopr(cytext):\n",
      "    prcytxt=[]\n",
      "    for i in range(0,len(cytext),2):\n",
      "        prcytxt.append(cytext[i]+cytext[i+1])\n",
      "    return prcytxt"
     ],
     "language": "python",
     "metadata": {},
     "outputs": [],
     "prompt_number": 35
    },
    {
     "cell_type": "code",
     "collapsed": false,
     "input": [
      "def dplayfair(key, cytext):\n",
      "    ##New abecedary for new key\n",
      "    key = key.replace('j','i')\n",
      "    nkey=''\n",
      "    cytext=cytext.lower()\n",
      "    global abecedary\n",
      "    abecedary = 'abcdefghiklmnopqrstuvwxyz'\n",
      "    for i in range(len(key)):\n",
      "        if abecedary.count(key[i])>0:\n",
      "            abecedary = abecedary.replace(key[i],'')\n",
      "        if nkey.find(key[i])<0:\n",
      "            nkey+=key[i]\n",
      "    abecedary = nkey + abecedary\n",
      "\n",
      "    #Pair decoding  \n",
      "    prctext=cytopr(cytext)\n",
      "    dtext=''\n",
      "    for i in prctext:\n",
      "        dtext+=pairdecyp(i)\n",
      "    return dtext\n",
      "    print M"
     ],
     "language": "python",
     "metadata": {},
     "outputs": [],
     "prompt_number": 36
    },
    {
     "cell_type": "code",
     "collapsed": false,
     "input": [
      "ctexttt='LGSNFSHKHZHCHLQYQMZBBLNMFMMHGL'\n",
      "dkey='basketball'\n",
      "dctext=dplayfair(dkey,ctexttt)\n",
      "print dctext"
     ],
     "language": "python",
     "metadata": {},
     "outputs": [
      {
       "output_type": "stream",
       "stream": "stdout",
       "text": [
        "theicemanwillarxriveatmidnight\n"
       ]
      }
     ],
     "prompt_number": 37
    },
    {
     "cell_type": "code",
     "collapsed": false,
     "input": [],
     "language": "python",
     "metadata": {},
     "outputs": []
    }
   ],
   "metadata": {}
  }
 ]
}