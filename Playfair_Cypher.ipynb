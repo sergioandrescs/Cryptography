{
 "metadata": {
  "name": "",
  "signature": "sha256:ff05f6be48eb6a606c3ea2935e4283453465902609ceab40cca5d4ac3f801f58"
 },
 "nbformat": 3,
 "nbformat_minor": 0,
 "worksheets": [
  {
   "cells": [
    {
     "cell_type": "code",
     "collapsed": false,
     "input": [
      "%pylab inline\n",
      "import numpy as np\n",
      "from __future__ import division\n",
      "#Playfair Cypher\n",
      "#Remember that i and j come together\n",
      "\n",
      "abecedary = 'abcdefghiklmnopqrstuvwxyz'\n",
      "\n",
      "key = 'basketball'\n"
     ],
     "language": "python",
     "metadata": {},
     "outputs": [
      {
       "output_type": "stream",
       "stream": "stdout",
       "text": [
        "Populating the interactive namespace from numpy and matplotlib\n"
       ]
      }
     ],
     "prompt_number": 21
    },
    {
     "cell_type": "code",
     "collapsed": false,
     "input": [
      "##New abecedary for new key\n",
      "nkey=''\n",
      "for i in range(len(key)):\n",
      "    if abecedary.count(key[i])>0:\n",
      "        abecedary = abecedary.replace(key[i],'')\n",
      "    if nkey.find(key[i])<0:\n",
      "        nkey+=key[i]\n",
      "abecedary = nkey + abecedary\n",
      "print abecedary"
     ],
     "language": "python",
     "metadata": {},
     "outputs": [
      {
       "output_type": "stream",
       "stream": "stdout",
       "text": [
        "basketlcdfghimnopqruvwxyz\n"
       ]
      }
     ],
     "prompt_number": 22
    },
    {
     "cell_type": "code",
     "collapsed": false,
     "input": [
      "#Playfair matrix\n",
      "M=np.zeros((5,5))\n",
      "count=0\n",
      "for i in range(5):\n",
      "    for j in range(5):        \n",
      "        M[i,j]=count\n",
      "        count+=1"
     ],
     "language": "python",
     "metadata": {},
     "outputs": [],
     "prompt_number": 23
    },
    {
     "cell_type": "code",
     "collapsed": false,
     "input": [
      "def paircyp(pair):\n",
      "    l1 = l2 = 0\n",
      "    c1 = c2 = 0\n",
      "    pair = pair.replace('j','i')\n",
      "    l1=abecedary.find(pair[0])\n",
      "    l2=abecedary.find(pair[1])\n",
      "        \n",
      "    c1 = int((l1-(l1%5))/5),l1%5\n",
      "    c2 = int((l2-(l2%5))/5),l2%5\n",
      "    \n",
      "    if c1[0]==c2[0]:\n",
      "        return abecedary[int(M[c1[0],(c1[1]+1)%5])]+abecedary[int(M[c2[0],(c2[1]+1)%5])]        \n",
      "    elif c1[1]==c2[1]:\n",
      "        return abecedary[int(M[(c1[0]+1)%5,c1[1]])]+abecedary[int(M[(c2[0]+1)%5,c2[1]])] \n",
      "    else:\n",
      "        return abecedary[int(M[c1[0],c2[1]])]+abecedary[int(M[c2[0],c1[1]])]"
     ],
     "language": "python",
     "metadata": {},
     "outputs": [],
     "prompt_number": 24
    },
    {
     "cell_type": "code",
     "collapsed": false,
     "input": [
      "##The next function takes pair of letters from the plaintext\n",
      "\n",
      "def pttopr(pltext):\n",
      "    mlist=[]\n",
      "    pairlist=[]\n",
      "    addx=False\n",
      "\n",
      "    for j in range(len(pltext)):\n",
      "        mlist.append(pltext[j])\n",
      "    if len(mlist)%2!=0:\n",
      "        mlist.append('x')\n",
      "        addx=True\n",
      "    i=0\n",
      "\n",
      "    while i<len(mlist):\n",
      "        if mlist[i]!=mlist[i+1]:\n",
      "            pairlist.append(mlist[i]+mlist[i+1])\n",
      "        else:\n",
      "            mlist.insert(i+1,'x')\n",
      "            if addx:\n",
      "                mlist.pop()\n",
      "                addx = not addx\n",
      "            else:\n",
      "                mlist.append('x')\n",
      "                addx= not addx\n",
      "            pairlist.append(mlist[i]+mlist[i+1])      \n",
      "        i+=2\n",
      "    return pairlist"
     ],
     "language": "python",
     "metadata": {},
     "outputs": [],
     "prompt_number": 25
    },
    {
     "cell_type": "code",
     "collapsed": false,
     "input": [
      "message='theicemanwillarriveatmidnight'\n",
      "pairl=pttopr(message)\n",
      "cytext=''\n",
      "for i in pairl:\n",
      "    cytext+=paircyp(i)\n",
      "print cytext"
     ],
     "language": "python",
     "metadata": {},
     "outputs": [
      {
       "output_type": "stream",
       "stream": "stdout",
       "text": [
        "lgsnfshkhzhchlqyqmzbblnmfmmhgl\n"
       ]
      }
     ],
     "prompt_number": 26
    },
    {
     "cell_type": "code",
     "collapsed": false,
     "input": [
      "def pairdecyp(pair):\n",
      "    l1 = l2 = 0\n",
      "    c1 = c2 = 0\n",
      "    l1=abecedary.find(pair[0])\n",
      "    l2=abecedary.find(pair[1])\n",
      "        \n",
      "    c1 = int((l1-(l1%5))/5),l1%5\n",
      "    c2 = int((l2-(l2%5))/5),l2%5\n",
      "    \n",
      "    if c1[0]==c2[0]:\n",
      "        return abecedary[int(M[c1[0],(c1[1]-1)%5])]+abecedary[int(M[c2[0],(c2[1]-1)%5])]        \n",
      "    elif c1[1]==c2[1]:\n",
      "        return abecedary[int(M[(c1[0]-1)%5,c1[1]])]+abecedary[int(M[(c2[0]-1)%5,c2[1]])] \n",
      "    else:\n",
      "        return abecedary[int(M[c1[0],c2[1]])]+abecedary[int(M[c2[0],c1[1]])]"
     ],
     "language": "python",
     "metadata": {},
     "outputs": [],
     "prompt_number": 27
    },
    {
     "cell_type": "code",
     "collapsed": false,
     "input": [
      "def cytopr(cytext):\n",
      "    prcytxt=[]\n",
      "    for i in range(0,len(cytext),2):\n",
      "        prcytxt.append(cytext[i]+cytext[i+1])\n",
      "    return prcytxt"
     ],
     "language": "python",
     "metadata": {},
     "outputs": [],
     "prompt_number": 28
    },
    {
     "cell_type": "code",
     "collapsed": false,
     "input": [
      "cyphertext='lgsnfshkhzhchlqyqmzbblnmfmmhgl'\n",
      "prctext=cytopr(cyphertext)\n",
      "dtext=''\n",
      "for i in prctext:\n",
      "    dtext+=pairdecyp(i)\n",
      "print dtext"
     ],
     "language": "python",
     "metadata": {},
     "outputs": [
      {
       "output_type": "stream",
       "stream": "stdout",
       "text": [
        "theicemanwillarxriveatmidnight\n"
       ]
      }
     ],
     "prompt_number": 30
    },
    {
     "cell_type": "code",
     "collapsed": false,
     "input": [],
     "language": "python",
     "metadata": {},
     "outputs": []
    }
   ],
   "metadata": {}
  }
 ]
}