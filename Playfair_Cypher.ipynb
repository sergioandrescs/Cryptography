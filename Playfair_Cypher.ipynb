{
 "metadata": {
  "name": "",
  "signature": "sha256:b01274663fd4fa9279f1ccd853bfcb38f9931a00c18b9583ff3913ca631cce35"
 },
 "nbformat": 3,
 "nbformat_minor": 0,
 "worksheets": [
  {
   "cells": [
    {
     "cell_type": "code",
     "collapsed": false,
     "input": [
      "%pylab inline\n",
      "import numpy as np\n",
      "from __future__ import division\n",
      "#Playfair Cypher\n",
      "#Remember that i and j come together"
     ],
     "language": "python",
     "metadata": {},
     "outputs": [
      {
       "output_type": "stream",
       "stream": "stdout",
       "text": [
        "Populating the interactive namespace from numpy and matplotlib\n"
       ]
      }
     ],
     "prompt_number": 106
    },
    {
     "cell_type": "code",
     "collapsed": false,
     "input": [
      "def paircyp(pair):\n",
      "    l1 = l2 = 0\n",
      "    c1 = c2 = 0\n",
      "    pair = pair.replace('j','i')\n",
      "    l1=abecedary.find(pair[0])\n",
      "    l2=abecedary.find(pair[1])\n",
      "        \n",
      "    c1 = int((l1-(l1%5))/5),l1%5\n",
      "    c2 = int((l2-(l2%5))/5),l2%5\n",
      "    \n",
      "    if c1[0]==c2[0]:\n",
      "        return abecedary[int(M[c1[0],(c1[1]+1)%5])]+abecedary[int(M[c2[0],(c2[1]+1)%5])]        \n",
      "    elif c1[1]==c2[1]:\n",
      "        return abecedary[int(M[(c1[0]+1)%5,c1[1]])]+abecedary[int(M[(c2[0]+1)%5,c2[1]])] \n",
      "    else:\n",
      "        return abecedary[int(M[c1[0],c2[1]])]+abecedary[int(M[c2[0],c1[1]])]"
     ],
     "language": "python",
     "metadata": {},
     "outputs": [],
     "prompt_number": 107
    },
    {
     "cell_type": "code",
     "collapsed": false,
     "input": [
      "##The next function takes pair of letters from the plaintext\n",
      "def pttopr(pltext):\n",
      "    mlist=[]\n",
      "    pairlist=[]\n",
      "    addx=False\n",
      "\n",
      "    for j in range(len(pltext)):\n",
      "        mlist.append(pltext[j])\n",
      "    if len(mlist)%2!=0:\n",
      "        mlist.append('x')\n",
      "        addx=True\n",
      "    i=0\n",
      "\n",
      "    while i<len(mlist):\n",
      "        if mlist[i]!=mlist[i+1]:\n",
      "            pairlist.append(mlist[i]+mlist[i+1])\n",
      "        else:\n",
      "            mlist.insert(i+1,'x')\n",
      "            if addx:\n",
      "                mlist.pop()\n",
      "                addx = not addx\n",
      "            else:\n",
      "                mlist.append('x')\n",
      "                addx= not addx\n",
      "            pairlist.append(mlist[i]+mlist[i+1])      \n",
      "        i+=2\n",
      "    return pairlist"
     ],
     "language": "python",
     "metadata": {},
     "outputs": [],
     "prompt_number": 108
    },
    {
     "cell_type": "code",
     "collapsed": false,
     "input": [
      "def playfair(key,message):    \n",
      "    ##New abecedary for new key\n",
      "    key = key.replace('j','i')\n",
      "    nkey=''\n",
      "    global abecedary\n",
      "    abecedary = 'abcdefghiklmnopqrstuvwxyz'\n",
      "    for i in range(len(key)):\n",
      "        if abecedary.count(key[i])>0:\n",
      "            abecedary = abecedary.replace(key[i],'')\n",
      "        if nkey.find(key[i])<0:\n",
      "            nkey+=key[i]\n",
      "    abecedary = nkey + abecedary\n",
      "\n",
      "    ##Playfair matrix\n",
      "    M=np.zeros((5,5))\n",
      "    count=0\n",
      "    for i in range(5):\n",
      "        for j in range(5):        \n",
      "            M[i,j]=count\n",
      "            count+=1\n",
      "    #Pair encoding        \n",
      "    pairl=pttopr(message)\n",
      "    cytext=''\n",
      "    for i in pairl:\n",
      "        cytext+=paircyp(i)\n",
      "    return cytext"
     ],
     "language": "python",
     "metadata": {},
     "outputs": [],
     "prompt_number": 109
    },
    {
     "cell_type": "code",
     "collapsed": false,
     "input": [
      "message='theicemanwillarriveatmidnight'\n",
      "key='crap'\n",
      "cytextt = playfair(key,message)\n",
      "print cytextt\n"
     ],
     "language": "python",
     "metadata": {},
     "outputs": [
      {
       "output_type": "stream",
       "stream": "stdout",
       "text": [
        "ugdkrdlpkzkmsfawckwdpsnkhimdgu\n"
       ]
      }
     ],
     "prompt_number": 110
    },
    {
     "cell_type": "code",
     "collapsed": false,
     "input": [
      "def pairdecyp(pair):\n",
      "    l1 = l2 = 0\n",
      "    c1 = c2 = 0\n",
      "    l1=abecedary.find(pair[0])\n",
      "    l2=abecedary.find(pair[1])\n",
      "        \n",
      "    c1 = int((l1-(l1%5))/5),l1%5\n",
      "    c2 = int((l2-(l2%5))/5),l2%5\n",
      "    \n",
      "    if c1[0]==c2[0]:\n",
      "        return abecedary[int(M[c1[0],(c1[1]-1)%5])]+abecedary[int(M[c2[0],(c2[1]-1)%5])]        \n",
      "    elif c1[1]==c2[1]:\n",
      "        return abecedary[int(M[(c1[0]-1)%5,c1[1]])]+abecedary[int(M[(c2[0]-1)%5,c2[1]])] \n",
      "    else:\n",
      "        return abecedary[int(M[c1[0],c2[1]])]+abecedary[int(M[c2[0],c1[1]])]"
     ],
     "language": "python",
     "metadata": {},
     "outputs": [],
     "prompt_number": 111
    },
    {
     "cell_type": "code",
     "collapsed": false,
     "input": [
      "def cytopr(cytext):\n",
      "    prcytxt=[]\n",
      "    for i in range(0,len(cytext),2):\n",
      "        prcytxt.append(cytext[i]+cytext[i+1])\n",
      "    return prcytxt"
     ],
     "language": "python",
     "metadata": {},
     "outputs": [],
     "prompt_number": 112
    },
    {
     "cell_type": "code",
     "collapsed": false,
     "input": [
      "def dplayfair(key, cytext):\n",
      "    ##New abecedary for new key\n",
      "    key = key.replace('j','i')\n",
      "    nkey=''\n",
      "    global abecedary\n",
      "    abecedary = 'abcdefghiklmnopqrstuvwxyz'\n",
      "    for i in range(len(key)):\n",
      "        if abecedary.count(key[i])>0:\n",
      "            abecedary = abecedary.replace(key[i],'')\n",
      "        if nkey.find(key[i])<0:\n",
      "            nkey+=key[i]\n",
      "    abecedary = nkey + abecedary\n",
      "\n",
      "    ##Playfair matrix\n",
      "    M=np.zeros((5,5))\n",
      "    count=0\n",
      "    for i in range(5):\n",
      "        for j in range(5):        \n",
      "            M[i,j]=count\n",
      "            count+=1\n",
      "    #Pair decoding  \n",
      "    prctext=cytopr(cytext)\n",
      "    dtext=''\n",
      "    for i in prctext:\n",
      "        dtext+=pairdecyp(i)\n",
      "    return dtext\n",
      "    print M"
     ],
     "language": "python",
     "metadata": {},
     "outputs": [],
     "prompt_number": 113
    },
    {
     "cell_type": "code",
     "collapsed": false,
     "input": [
      "ctexttt='qtbpcpscdzlxybqtdmyikdtkufgeqdsiyeitbqgygdgakw'\n",
      "dkey='diskjockey'\n",
      "dctext=dplayfair(dkey,ctexttt)\n",
      "print dctext"
     ],
     "language": "python",
     "metadata": {},
     "outputs": [
      {
       "output_type": "stream",
       "stream": "stdout",
       "text": [
        "pretendyouareaprofessoronceinsidecopythefilesx\n"
       ]
      }
     ],
     "prompt_number": 114
    },
    {
     "cell_type": "code",
     "collapsed": false,
     "input": [],
     "language": "python",
     "metadata": {},
     "outputs": []
    }
   ],
   "metadata": {}
  }
 ]
}