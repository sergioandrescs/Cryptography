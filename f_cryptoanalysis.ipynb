{
 "metadata": {
  "name": "",
  "signature": "sha256:656c568060ed7b91465ae46c01cfa55d07fe9142c8dce19ac741f2ca238c095f"
 },
 "nbformat": 3,
 "nbformat_minor": 0,
 "worksheets": [
  {
   "cells": [
    {
     "cell_type": "code",
     "collapsed": false,
     "input": [
      "%pylab inline\n",
      "import numpy as np\n",
      "from __future__ import division\n",
      "import matplotlib.pyplot as plt\n",
      "##Tools of cryptoanalysis\n",
      "\n",
      "abecedary='abcdefghijklmnopqrstuvwxyz'\n",
      "list_abc=[]\n",
      "for i in abecedary:\n",
      "    list_abc.append(i)\n",
      "    \n",
      "eng_frec=[0.082,0.015,0.028,0.043,0.127,0.022,0.020,0.061,0.070,0.002,0.008,0.04,0.024,0.067,0.075,0.019,0.001,0.06,0.063,0.091,\n",
      "          0.028,0.010,0.023,0.001,0.020,0.001]\n",
      "\n",
      "##English frecuency graph\n",
      "bar_width = 0.35\n",
      "index = np.arange(26)\n",
      "\n",
      "p2 = plt.bar(index+bar_width,eng_frec,bar_width,color='r',label='standar')\n",
      "plt.title('Letter frecuency English')\n",
      "plt.ylabel('Frecuency')\n",
      "plt.xlabel('Letter')\n",
      "\n",
      "plt.xlim(0,26)\n",
      "plt.xticks(index + bar_width, list_abc)\n",
      "\n",
      "plt.tight_layout()\n",
      "plt.show()\n"
     ],
     "language": "python",
     "metadata": {},
     "outputs": [
      {
       "output_type": "stream",
       "stream": "stdout",
       "text": [
        "Populating the interactive namespace from numpy and matplotlib\n"
       ]
      },
      {
       "metadata": {},
       "output_type": "display_data",
       "png": "[encoded data removed]",
       "text": [
        "<matplotlib.figure.Figure at 0x7f86cd124dd0>"
       ]
      }
     ],
     "prompt_number": 192
    },
    {
     "cell_type": "code",
     "collapsed": false,
     "input": [
      "##Leter counting\n",
      "##Index from the given abecedary\n",
      "\n",
      "def letter_count(text):\n",
      "    text=text.lower()\n",
      "    text=text.replace(' ','')\n",
      "    frec=[]\n",
      "    for i in abecedary:\n",
      "        frec.append(text.count(i)/len(text))\n",
      "    return frec    "
     ],
     "language": "python",
     "metadata": {},
     "outputs": [],
     "prompt_number": 193
    },
    {
     "cell_type": "code",
     "collapsed": false,
     "input": [
      "ctext='AUNDQHUDQA RWGEDN KWYN RUW YGMEDQRSK NWSYAWO YSS UWN WMJWNEXWGAR YGO JYNAEYS RQTTWRRWR AD Y TYNWWN OYESK DG AUW SELNYNK RAWJR DN EG AUW UYSS DP AUW XYEG LQESOEGH AUW TDWOR AYSVWO DP BUYA RUYSS BW OD BUWG BW PEGERU TDSSWHW WFWG AUW HENSR BUD VGWB AUYA AUWK BWNW HDEGH AD LW XYNNEWO JNWAWGOWO AD LW TDGREOWNEGH EXJDNAYGA LQREGWRR JDREAEDGR WFWG AUWK BUD VGWB AUYA AUWK BDQSO UYFW AD BDNV UEGAWO YLDQA PYLQSDQR RQEADNR YR PDN TYNDS RUW BYR YG DNJUYG UWN DGSK GWYN NWSYAEFW BYR Y FYGESSY PSYFDNWO RERAWN XYNNEWO AD YG DJAETEYG EG RA JYQS RUW UYO QRWO XDRA DP AUW XDGWK PNDX UWN PYAUWNR WRAYAW RUW BYR GDA EG SDFW  AUYA ER GDA DPAWG GDN WFWN SDGH YA Y AEXW RUW BDQSO WYNG UWN SEFEGH LQA UDB RUW BYR AD WYNG EA UDB RUW BYR AD TDGZQWN AUW BDNSO  YSXDRA WGAENWSK PDN AUW BDNSOR DBG HDDO  RUW OEO GDA RWW'"
     ],
     "language": "python",
     "metadata": {},
     "outputs": [],
     "prompt_number": 194
    },
    {
     "cell_type": "code",
     "collapsed": false,
     "input": [
      "print len(ctext)"
     ],
     "language": "python",
     "metadata": {},
     "outputs": [
      {
       "output_type": "stream",
       "stream": "stdout",
       "text": [
        "795\n"
       ]
      }
     ],
     "prompt_number": 195
    },
    {
     "cell_type": "code",
     "collapsed": false,
     "input": [
      "count_list =letter_count(ctext)\n",
      "\n",
      "bar_width = 0.35\n",
      "index = np.arange(26)\n",
      "\n",
      "p1 = plt.bar(index,count_list,bar_width,color='b',label='cyphertext')\n",
      "\n",
      "plt.title('Letter frecuency')\n",
      "plt.ylabel('Frecuency')\n",
      "plt.xlabel('Letter')\n",
      "\n",
      "plt.xlim(0,26)\n",
      "plt.xticks(index, list_abc)\n",
      "\n",
      "plt.tight_layout()\n",
      "plt.show()\n"
     ],
     "language": "python",
     "metadata": {},
     "outputs": [
      {
       "metadata": {},
       "output_type": "display_data",
       "png": "[encoded data removed]",
       "text": [
        "<matplotlib.figure.Figure at 0x7f86ccb89410>"
       ]
      }
     ],
     "prompt_number": 196
    },
    {
     "cell_type": "code",
     "collapsed": false,
     "input": [
      "def nonadjacent_count(text):\n",
      "    naj_count=[]\n",
      "    text=text.lower()\n",
      "    ##Letter count generate    \n",
      "    lcount=letter_count(text)\n",
      "    \n",
      "    for i in range(13):\n",
      "        count=25\n",
      "        letter=abecedary[lcount.index(max(lcount))]\n",
      "        for j in abecedary:\n",
      "            if letter!=j:\n",
      "                if text.find(letter+j)>0:\n",
      "                    count -=1\n",
      "        naj_count.append([letter,count])\n",
      "        lcount[lcount.index(max(lcount))]=0\n",
      "        \n",
      "    return  naj_count  "
     ],
     "language": "python",
     "metadata": {},
     "outputs": [],
     "prompt_number": 197
    },
    {
     "cell_type": "code",
     "collapsed": false,
     "input": [
      "nonadjacent_count(ctext)"
     ],
     "language": "python",
     "metadata": {},
     "outputs": [
      {
       "metadata": {},
       "output_type": "pyout",
       "prompt_number": 198,
       "text": [
        "[['w', 12],\n",
        " ['d', 11],\n",
        " ['a', 20],\n",
        " ['y', 15],\n",
        " ['r', 19],\n",
        " ['g', 15],\n",
        " ['n', 14],\n",
        " ['u', 20],\n",
        " ['e', 12],\n",
        " ['s', 16],\n",
        " ['o', 20],\n",
        " ['b', 20],\n",
        " ['q', 18]]"
       ]
      }
     ],
     "prompt_number": 198
    },
    {
     "cell_type": "code",
     "collapsed": false,
     "input": [
      "print ctext"
     ],
     "language": "python",
     "metadata": {},
     "outputs": [
      {
       "output_type": "stream",
       "stream": "stdout",
       "text": [
        "AUNDQHUDQA RWGEDN KWYN RUW YGMEDQRSK NWSYAWO YSS UWN WMJWNEXWGAR YGO JYNAEYS RQTTWRRWR AD Y TYNWWN OYESK DG AUW SELNYNK RAWJR DN EG AUW UYSS DP AUW XYEG LQESOEGH AUW TDWOR AYSVWO DP BUYA RUYSS BW OD BUWG BW PEGERU TDSSWHW WFWG AUW HENSR BUD VGWB AUYA AUWK BWNW HDEGH AD LW XYNNEWO JNWAWGOWO AD LW TDGREOWNEGH EXJDNAYGA LQREGWRR JDREAEDGR WFWG AUWK BUD VGWB AUYA AUWK BDQSO UYFW AD BDNV UEGAWO YLDQA PYLQSDQR RQEADNR YR PDN TYNDS RUW BYR YG DNJUYG UWN DGSK GWYN NWSYAEFW BYR Y FYGESSY PSYFDNWO RERAWN XYNNEWO AD YG DJAETEYG EG RA JYQS RUW UYO QRWO XDRA DP AUW XDGWK PNDX UWN PYAUWNR WRAYAW RUW BYR GDA EG SDFW  AUYA ER GDA DPAWG GDN WFWN SDGH YA Y AEXW RUW BDQSO WYNG UWN SEFEGH LQA UDB RUW BYR AD WYNG EA UDB RUW BYR AD TDGZQWN AUW BDNSO  YSXDRA WGAENWSK PDN AUW BDNSOR DBG HDDO  RUW OEO GDA RWW\n"
       ]
      }
     ],
     "prompt_number": 199
    },
    {
     "cell_type": "code",
     "collapsed": false,
     "input": [
      "ptext=ctext\n",
      "ptext=ptext.replace('W','e')\n",
      "print ptext"
     ],
     "language": "python",
     "metadata": {},
     "outputs": [
      {
       "output_type": "stream",
       "stream": "stdout",
       "text": [
        "AUNDQHUDQA ReGEDN KeYN RUe YGMEDQRSK NeSYAeO YSS UeN eMJeNEXeGAR YGO JYNAEYS RQTTeRReR AD Y TYNeeN OYESK DG AUe SELNYNK RAeJR DN EG AUe UYSS DP AUe XYEG LQESOEGH AUe TDeOR AYSVeO DP BUYA RUYSS Be OD BUeG Be PEGERU TDSSeHe eFeG AUe HENSR BUD VGeB AUYA AUeK BeNe HDEGH AD Le XYNNEeO JNeAeGOeO AD Le TDGREOeNEGH EXJDNAYGA LQREGeRR JDREAEDGR eFeG AUeK BUD VGeB AUYA AUeK BDQSO UYFe AD BDNV UEGAeO YLDQA PYLQSDQR RQEADNR YR PDN TYNDS RUe BYR YG DNJUYG UeN DGSK GeYN NeSYAEFe BYR Y FYGESSY PSYFDNeO RERAeN XYNNEeO AD YG DJAETEYG EG RA JYQS RUe UYO QReO XDRA DP AUe XDGeK PNDX UeN PYAUeNR eRAYAe RUe BYR GDA EG SDFe  AUYA ER GDA DPAeG GDN eFeN SDGH YA Y AEXe RUe BDQSO eYNG UeN SEFEGH LQA UDB RUe BYR AD eYNG EA UDB RUe BYR AD TDGZQeN AUe BDNSO  YSXDRA eGAENeSK PDN AUe BDNSOR DBG HDDO  RUe OEO GDA Ree\n"
       ]
      }
     ],
     "prompt_number": 200
    },
    {
     "cell_type": "code",
     "collapsed": false,
     "input": [
      "ptext=ptext.replace('A','t')\n",
      "ptext=ptext.replace('U','h')\n",
      "ptext=ptext.replace('D','o')\n",
      "ptext=ptext.replace('Y','a')\n",
      "ptext=ptext.replace('R','s')\n",
      "ptext=ptext.replace('N','r')\n",
      "ptext=ptext.replace('G','n')\n",
      "ptext=ptext.replace('O','d')\n",
      "ptext=ptext.replace('J','p')\n",
      "ptext=ptext.replace('E','i')\n",
      "ptext=ptext.replace('X','m')\n",
      "ptext=ptext.replace('T','c')\n",
      "ptext=ptext.replace('H','g')\n",
      "ptext=ptext.replace('L','b')\n",
      "ptext=ptext.replace('Q','u')\n",
      "ptext=ptext.replace('F','v')\n",
      "ptext=ptext.replace('P','f')\n",
      "ptext=ptext.replace('K','y')\n",
      "ptext=ptext.replace('M','x')\n",
      "ptext=ptext.replace('S','l')\n",
      "ptext=ptext.replace('V','k')\n",
      "ptext=ptext.replace('B','w')\n",
      "ptext=ptext.replace('Z','q')\n",
      "print ptext"
     ],
     "language": "python",
     "metadata": {},
     "outputs": [
      {
       "output_type": "stream",
       "stream": "stdout",
       "text": [
        "throughout senior year she anxiously related all her experiments and partial successes to a career daily on the library steps or in the hall of the main building the coeds talked of what shall we do when we finish college even the girls who knew that they were going to be married pretended to be considering important business positions even they who knew that they would have to work hinted about fabulous suitors as for carol she was an orphan her only near relative was a vanilla flavored sister married to an optician in st paul she had used most of the money from her fathers estate she was not in love  that is not often nor ever long at a time she would earn her living but how she was to earn it how she was to conquer the world  almost entirely for the worlds own good  she did not see\n"
       ]
      }
     ],
     "prompt_number": 201
    },
    {
     "cell_type": "code",
     "collapsed": false,
     "input": [],
     "language": "python",
     "metadata": {},
     "outputs": [],
     "prompt_number": 191
    },
    {
     "cell_type": "code",
     "collapsed": false,
     "input": [],
     "language": "python",
     "metadata": {},
     "outputs": []
    }
   ],
   "metadata": {}
  }
 ]
}