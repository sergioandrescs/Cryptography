{
 "metadata": {
  "name": "",
  "signature": "sha256:6967a36b9141e70ddf3774ef39fc23edd4d915c5e491c8e24061c540bb2a6e15"
 },
 "nbformat": 3,
 "nbformat_minor": 0,
 "worksheets": [
  {
   "cells": [
    {
     "cell_type": "code",
     "collapsed": false,
     "input": [
      "%pylab inline\n",
      "import numpy as np\n",
      "from __future__ import division\n",
      "#Vigenere Cypher\n",
      "\n",
      "key = 'monkey'\n",
      "\n",
      "abecedary = 'abcdefghijklmnopqrstuvwxyz'\n",
      "labc=len(abecedary)\n",
      "\n",
      "M=np.zeros((labc,labc))\n",
      "for i in range(labc):\n",
      "    for j in range(labc):\n",
      "        M[i,j]=(j+i) % labc"
     ],
     "language": "python",
     "metadata": {},
     "outputs": [
      {
       "output_type": "stream",
       "stream": "stdout",
       "text": [
        "Populating the interactive namespace from numpy and matplotlib\n"
       ]
      }
     ],
     "prompt_number": 61
    },
    {
     "cell_type": "code",
     "collapsed": false,
     "input": [
      "def cypher(pltext):\n",
      "    cytext=''\n",
      "    for i in range(len(pltext)):\n",
      "        x=abecedary.find(key[i%len(key)])\n",
      "        y=abecedary.find(pltext[i])\n",
      "        cytext+=abecedary[int(M[x,y])]\n",
      "    return cytext\n"
     ],
     "language": "python",
     "metadata": {},
     "outputs": [],
     "prompt_number": 62
    },
    {
     "cell_type": "code",
     "collapsed": false,
     "input": [
      "def decypher(ctext):\n",
      "    ptext=''\n",
      "    for i in range(len(ctext)):\n",
      "        x=-abecedary.find(key[i%len(key)])\n",
      "        y=abecedary.find(ctext[i])\n",
      "        ptext+=abecedary[int(M[x,y])]\n",
      "    return ptext"
     ],
     "language": "python",
     "metadata": {},
     "outputs": [],
     "prompt_number": 63
    },
    {
     "cell_type": "code",
     "collapsed": false,
     "input": [
      "message='vivelafranceforever'\n",
      "cypher(message)"
     ],
     "language": "python",
     "metadata": {},
     "outputs": [
      {
       "metadata": {},
       "output_type": "pyout",
       "prompt_number": 64,
       "text": [
        "'hwiopyrfnxgcrceozcd'"
       ]
      }
     ],
     "prompt_number": 64
    },
    {
     "cell_type": "code",
     "collapsed": false,
     "input": [
      "decypher('hwiopyrfnxgcrceozcd')"
     ],
     "language": "python",
     "metadata": {},
     "outputs": [
      {
       "metadata": {},
       "output_type": "pyout",
       "prompt_number": 66,
       "text": [
        "'vivelafranceforever'"
       ]
      }
     ],
     "prompt_number": 66
    },
    {
     "cell_type": "code",
     "collapsed": false,
     "input": [],
     "language": "python",
     "metadata": {},
     "outputs": [],
     "prompt_number": 65
    },
    {
     "cell_type": "code",
     "collapsed": false,
     "input": [],
     "language": "python",
     "metadata": {},
     "outputs": []
    }
   ],
   "metadata": {}
  }
 ]
}