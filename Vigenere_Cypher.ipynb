{
 "metadata": {
  "name": "",
  "signature": "sha256:1c4974e6f3822a1b38b8cdd0925d76d9b6631c536e5e878fbe67277b6d2eeeb6"
 },
 "nbformat": 3,
 "nbformat_minor": 0,
 "worksheets": [
  {
   "cells": [
    {
     "cell_type": "code",
     "collapsed": false,
     "input": [
      "%pylab inline\n",
      "import numpy as np\n",
      "from __future__ import division\n",
      "#Vigenere Cypher\n"
     ],
     "language": "python",
     "metadata": {},
     "outputs": [
      {
       "output_type": "stream",
       "stream": "stdout",
       "text": [
        "Populating the interactive namespace from numpy and matplotlib\n"
       ]
      }
     ],
     "prompt_number": 1
    },
    {
     "cell_type": "code",
     "collapsed": false,
     "input": [
      "def cypher(key,pltext):\n",
      "    cytext=''\n",
      "    abecedary = 'abcdefghijklmnopqrstuvwxyz'\n",
      "    labc=len(abecedary)\n",
      "\n",
      "    M=np.zeros((labc,labc))\n",
      "    for i in range(labc):\n",
      "        for j in range(labc):\n",
      "            M[i,j]=(j+i) % labc\n",
      "            \n",
      "    for i in range(len(pltext)):\n",
      "        x=abecedary.find(key[i%len(key)])\n",
      "        y=abecedary.find(pltext[i])\n",
      "        cytext+=abecedary[int(M[x,y])]\n",
      "    return cytext\n"
     ],
     "language": "python",
     "metadata": {},
     "outputs": [],
     "prompt_number": 2
    },
    {
     "cell_type": "code",
     "collapsed": false,
     "input": [
      "message='anitalavalatina'\n",
      "key='reconocer'\n",
      "cypher(key,message)"
     ],
     "language": "python",
     "metadata": {},
     "outputs": [
      {
       "metadata": {},
       "output_type": "pyout",
       "prompt_number": 14,
       "text": [
        "'rrkhnzczrcevwao'"
       ]
      }
     ],
     "prompt_number": 14
    },
    {
     "cell_type": "code",
     "collapsed": false,
     "input": [
      "def decypher(key,ctext):\n",
      "    ptext=''\n",
      "    abecedary = 'abcdefghijklmnopqrstuvwxyz'\n",
      "    labc=len(abecedary)\n",
      "\n",
      "    M=np.zeros((labc,labc))\n",
      "    for i in range(labc):\n",
      "        for j in range(labc):\n",
      "            M[i,j]=(j+i) % labc\n",
      "    \n",
      "    for i in range(len(ctext)):\n",
      "        x=-abecedary.find(key[i%len(key)])\n",
      "        y=abecedary.find(ctext[i])\n",
      "        ptext+=abecedary[int(M[x,y])]\n",
      "    return ptext"
     ],
     "language": "python",
     "metadata": {},
     "outputs": [],
     "prompt_number": 6
    },
    {
     "cell_type": "code",
     "collapsed": false,
     "input": [
      "cmessage='rrkhnzczrcevwao'\n",
      "dkey='reconocer'\n",
      "decypher(dkey,cmessage)"
     ],
     "language": "python",
     "metadata": {},
     "outputs": [
      {
       "metadata": {},
       "output_type": "pyout",
       "prompt_number": 15,
       "text": [
        "'anitalavalatina'"
       ]
      }
     ],
     "prompt_number": 15
    }
   ],
   "metadata": {}
  }
 ]
}