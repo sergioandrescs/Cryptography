{
 "metadata": {
  "name": "",
  "signature": "sha256:3b5c7d14fb11a40d2da3846c901ed3de01d2d0a72635fa8d8effac154f8f9483"
 },
 "nbformat": 3,
 "nbformat_minor": 0,
 "worksheets": [
  {
   "cells": [
    {
     "cell_type": "code",
     "collapsed": false,
     "input": [
      "%pylab inline\n",
      "import numpy as np\n",
      "from __future__ import division\n",
      "#Vigenere Cypher\n"
     ],
     "language": "python",
     "metadata": {},
     "outputs": [
      {
       "output_type": "stream",
       "stream": "stdout",
       "text": [
        "Populating the interactive namespace from numpy and matplotlib\n"
       ]
      }
     ],
     "prompt_number": 34
    },
    {
     "cell_type": "code",
     "collapsed": false,
     "input": [
      "def cypher(key,pltext):\n",
      "    cytext=''\n",
      "    abecedary = 'abcdefghijklmnopqrstuvwxyz'\n",
      "    labc=len(abecedary)\n",
      "\n",
      "    M=np.zeros((labc,labc))\n",
      "    for i in range(labc):\n",
      "        for j in range(labc):\n",
      "            M[i,j]=(j+i) % labc\n",
      "            \n",
      "    for i in range(len(pltext)):\n",
      "        x=abecedary.find(key[i%len(key)])\n",
      "        y=abecedary.find(pltext[i])\n",
      "        cytext+=abecedary[int(M[x,y])]\n",
      "    return cytext.upper()\n"
     ],
     "language": "python",
     "metadata": {},
     "outputs": [],
     "prompt_number": 35
    },
    {
     "cell_type": "code",
     "collapsed": false,
     "input": [
      "message='anitalavalatina'\n",
      "key='oso'\n",
      "cypher(key,message)"
     ],
     "language": "python",
     "metadata": {},
     "outputs": [
      {
       "metadata": {},
       "output_type": "pyout",
       "prompt_number": 55,
       "text": [
        "'OFWHSZONOZSHWFO'"
       ]
      }
     ],
     "prompt_number": 55
    },
    {
     "cell_type": "code",
     "collapsed": false,
     "input": [
      "def decypher(key,ctext):\n",
      "    ctext=ctext.lower()\n",
      "    ptext=''\n",
      "    abecedary = 'abcdefghijklmnopqrstuvwxyz'\n",
      "    labc=len(abecedary)\n",
      "\n",
      "    M=np.zeros((labc,labc))\n",
      "    for i in range(labc):\n",
      "        for j in range(labc):\n",
      "            M[i,j]=(j+i) % labc\n",
      "    \n",
      "    for i in range(len(ctext)):\n",
      "        x=-abecedary.find(key[i%len(key)])\n",
      "        y=abecedary.find(ctext[i])\n",
      "        ptext+=abecedary[int(M[x,y])]\n",
      "    return ptext"
     ],
     "language": "python",
     "metadata": {},
     "outputs": [],
     "prompt_number": 50
    },
    {
     "cell_type": "code",
     "collapsed": false,
     "input": [
      "cmessage='OFWHSZONOZSHWFO'\n",
      "dkey='oso'\n",
      "decypher(dkey,cmessage)"
     ],
     "language": "python",
     "metadata": {},
     "outputs": [
      {
       "metadata": {},
       "output_type": "pyout",
       "prompt_number": 56,
       "text": [
        "'anitalavalatina'"
       ]
      }
     ],
     "prompt_number": 56
    },
    {
     "cell_type": "code",
     "collapsed": false,
     "input": [],
     "language": "python",
     "metadata": {},
     "outputs": []
    }
   ],
   "metadata": {}
  }
 ]
}