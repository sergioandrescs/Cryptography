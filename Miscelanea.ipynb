{
 "metadata": {
  "name": "",
  "signature": "sha256:59d8ba271f4cecbb3a08a89b17860718e27e4adaaee8d50f01b796e1af6204ad"
 },
 "nbformat": 3,
 "nbformat_minor": 0,
 "worksheets": [
  {
   "cells": [
    {
     "cell_type": "code",
     "collapsed": false,
     "input": [
      "%pylab inline\n",
      "import numpy as np\n",
      "from __future__ import division\n",
      "from fractions import Fraction\n",
      "#Different things related"
     ],
     "language": "python",
     "metadata": {},
     "outputs": [
      {
       "output_type": "stream",
       "stream": "stdout",
       "text": [
        "Populating the interactive namespace from numpy and matplotlib\n"
       ]
      }
     ],
     "prompt_number": 46
    },
    {
     "cell_type": "code",
     "collapsed": false,
     "input": [
      "##Hamming distance code from Wikipedia\n",
      "##\"[...]number of positions at which the corresponding symbols are different.\"\n",
      "def hamming_distance(s1, s2):\n",
      "    \"\"\"Return the Hamming distance between equal-length sequences\"\"\"\n",
      "    if len(s1) != len(s2):\n",
      "        raise ValueError(\"Undefined for sequences of unequal length\")\n",
      "    return sum(ch1 != ch2 for ch1, ch2 in zip(s1, s2))\n"
     ],
     "language": "python",
     "metadata": {},
     "outputs": [],
     "prompt_number": 19
    },
    {
     "cell_type": "code",
     "collapsed": false,
     "input": [
      "st1='karolin'\n",
      "st2='katerin'\n",
      "hamming_distance(st1,st2)"
     ],
     "language": "python",
     "metadata": {},
     "outputs": [
      {
       "metadata": {},
       "output_type": "pyout",
       "prompt_number": 20,
       "text": [
        "3"
       ]
      }
     ],
     "prompt_number": 20
    },
    {
     "cell_type": "code",
     "collapsed": false,
     "input": [
      "#Extended euclidean algorithm\n",
      "#With this algorithm is posible to calculate the multiplicative inverse of a certain number in a given mod\n",
      "def euclidean_algorithm(a,b):\n",
      "    U=np.array([a,1,0])\n",
      "    V=np.array([b,0,1])\n",
      "    W=np.array([0,0,0])\n",
      "    while V[0]>0:\n",
      "        W=U-int(floor(U[0]/V[0]))*V\n",
      "        U=V\n",
      "        V=W\n",
      "    return \"Se cumple que %d = %d*%d + %d*%d. %d^-1 =%d\"  %(U[0],a,U[1],b,U[2],b,U[2]%a)\n",
      "        "
     ],
     "language": "python",
     "metadata": {},
     "outputs": [],
     "prompt_number": 59
    },
    {
     "cell_type": "code",
     "collapsed": false,
     "input": [
      "euclidean_algorithm(7,2)"
     ],
     "language": "python",
     "metadata": {},
     "outputs": [
      {
       "metadata": {},
       "output_type": "pyout",
       "prompt_number": 67,
       "text": [
        "'Se cumple que 1 = 7*1 + 2*-3. 2^-1 =4'"
       ]
      }
     ],
     "prompt_number": 67
    },
    {
     "cell_type": "code",
     "collapsed": false,
     "input": [
      "# Greatest common divisor. Code from Lib/fractions.py\n",
      "def gcd(a,b):\n",
      "    while b:\n",
      "        a, b = b, a%b\n",
      "    return a"
     ],
     "language": "python",
     "metadata": {},
     "outputs": [],
     "prompt_number": 56
    },
    {
     "cell_type": "code",
     "collapsed": false,
     "input": [
      "gcd(28,8)"
     ],
     "language": "python",
     "metadata": {},
     "outputs": [
      {
       "metadata": {},
       "output_type": "pyout",
       "prompt_number": 65,
       "text": [
        "4"
       ]
      }
     ],
     "prompt_number": 65
    },
    {
     "cell_type": "code",
     "collapsed": false,
     "input": [
      "##Fast modular exponentiation algorithm\n",
      "def fmexp(base,exp,m):\n",
      "    a=1\n",
      "    s=base%m\n",
      "    while exp>0:\n",
      "        if exp%2==1:\n",
      "            a=(a*s)%m\n",
      "            s=(s*s)%m\n",
      "            exp=exp/2\n",
      "        else:\n",
      "            s=(s*s)%m\n",
      "            exp=exp/2\n",
      "    return a\n",
      "            "
     ],
     "language": "python",
     "metadata": {},
     "outputs": [],
     "prompt_number": 8
    },
    {
     "cell_type": "code",
     "collapsed": false,
     "input": [
      "time(fmexp(5458,135,67))"
     ],
     "language": "python",
     "metadata": {},
     "outputs": [
      {
       "output_type": "stream",
       "stream": "stdout",
       "text": [
        "CPU times: user 9 \u00b5s, sys: 2 \u00b5s, total: 11 \u00b5s\n",
        "Wall time: 15 \u00b5s\n"
       ]
      },
      {
       "metadata": {},
       "output_type": "pyout",
       "prompt_number": 14,
       "text": [
        "43"
       ]
      }
     ],
     "prompt_number": 14
    },
    {
     "cell_type": "code",
     "collapsed": false,
     "input": [],
     "language": "python",
     "metadata": {},
     "outputs": []
    }
   ],
   "metadata": {}
  }
 ]
}