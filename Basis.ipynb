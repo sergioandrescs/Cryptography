{
 "metadata": {
  "name": "",
  "signature": "sha256:6eca5b4c3c5601ffc494beaed7c7e248e97ca115f074c087c042bce3dbc53862"
 },
 "nbformat": 3,
 "nbformat_minor": 0,
 "worksheets": [
  {
   "cells": [
    {
     "cell_type": "code",
     "collapsed": false,
     "input": [
      "% pylab inline\n",
      "import numpy as np\n",
      "## Integers in different basis"
     ],
     "language": "python",
     "metadata": {},
     "outputs": [
      {
       "output_type": "stream",
       "stream": "stdout",
       "text": [
        "Populating the interactive namespace from numpy and matplotlib\n"
       ]
      }
     ],
     "prompt_number": 1
    },
    {
     "cell_type": "code",
     "collapsed": false,
     "input": [
      "##The next function turns a decimal number into binary basis\n",
      "def dec_to_bin(ndec):\n",
      "    nbin=''\n",
      "    while ndec > 0:\n",
      "        nbin = str(int(ndec%2)) + nbin\n",
      "        ndec=(ndec/2)\n",
      "    return nbin\n",
      "    "
     ],
     "language": "python",
     "metadata": {},
     "outputs": [],
     "prompt_number": 62
    },
    {
     "cell_type": "code",
     "collapsed": false,
     "input": [
      "time(bin(10))"
     ],
     "language": "python",
     "metadata": {},
     "outputs": [
      {
       "output_type": "stream",
       "stream": "stdout",
       "text": [
        "CPU times: user 0 ns, sys: 0 ns, total: 0 ns\n",
        "Wall time: 8.82 \u00b5s\n"
       ]
      },
      {
       "metadata": {},
       "output_type": "pyout",
       "prompt_number": 60,
       "text": [
        "'0b1010'"
       ]
      }
     ],
     "prompt_number": 60
    },
    {
     "cell_type": "code",
     "collapsed": false,
     "input": [
      "time(dec_to_bin(10))"
     ],
     "language": "python",
     "metadata": {},
     "outputs": [
      {
       "output_type": "stream",
       "stream": "stdout",
       "text": [
        "CPU times: user 0 ns, sys: 0 ns, total: 0 ns\n",
        "Wall time: 18.1 \u00b5s\n"
       ]
      },
      {
       "metadata": {},
       "output_type": "pyout",
       "prompt_number": 61,
       "text": [
        "'1010'"
       ]
      }
     ],
     "prompt_number": 61
    },
    {
     "cell_type": "code",
     "collapsed": false,
     "input": [
      "##The next function turns a decimal number into any basis <=16\n",
      "def dec_to(ndec,nbas):\n",
      "    nnum=''\n",
      "    ref='0123456789ABCDEF'\n",
      "    while ndec > 0:\n",
      "        nnum = ref[int(ndec%nbas)] + nnum\n",
      "        ndec=(ndec/nbas)\n",
      "    return nnum\n",
      "    "
     ],
     "language": "python",
     "metadata": {},
     "outputs": [],
     "prompt_number": 64
    },
    {
     "cell_type": "code",
     "collapsed": false,
     "input": [
      "time(dec_to(32,16))"
     ],
     "language": "python",
     "metadata": {},
     "outputs": [
      {
       "output_type": "stream",
       "stream": "stdout",
       "text": [
        "CPU times: user 8 \u00b5s, sys: 2 \u00b5s, total: 10 \u00b5s\n",
        "Wall time: 14.1 \u00b5s\n"
       ]
      },
      {
       "metadata": {},
       "output_type": "pyout",
       "prompt_number": 89,
       "text": [
        "'20'"
       ]
      }
     ],
     "prompt_number": 89
    },
    {
     "cell_type": "code",
     "collapsed": false,
     "input": [
      "time(hex(32))"
     ],
     "language": "python",
     "metadata": {},
     "outputs": [
      {
       "output_type": "stream",
       "stream": "stdout",
       "text": [
        "CPU times: user 6 \u00b5s, sys: 2 \u00b5s, total: 8 \u00b5s\n",
        "Wall time: 11.9 \u00b5s\n"
       ]
      },
      {
       "metadata": {},
       "output_type": "pyout",
       "prompt_number": 90,
       "text": [
        "'0x20'"
       ]
      }
     ],
     "prompt_number": 90
    },
    {
     "cell_type": "code",
     "collapsed": false,
     "input": [
      "#!/usr/bin/python\n",
      "#from http://www.tutorialspoint.com/python/bitwise_operators_example.htm\n",
      "\n",
      "a = 60            # 60 = 0011 1100 \n",
      "b = 13            # 13 = 0000 1101 \n",
      "c = 0\n",
      "\n",
      "c = a & b;        # 12 = 0000 1100\n",
      "print \"Line 1 - Value of c is \", c\n",
      "\n",
      "c = a | b;        # 61 = 0011 1101 \n",
      "print \"Line 2 - Value of c is \", c\n",
      "\n",
      "c = a ^ b;        # 49 = 0011 0001\n",
      "print \"Line 3 - Value of c is \", c\n",
      "\n",
      "c = ~a;           # -61 = 1100 0011\n",
      "print \"Line 4 - Value of c is \", c\n",
      "\n",
      "c = a << 2;       # 240 = 1111 0000\n",
      "print \"Line 5 - Value of c is \", c\n",
      "\n",
      "c = a >> 2;       # 15 = 0000 1111\n",
      "print \"Line 6 - Value of c is \", c"
     ],
     "language": "python",
     "metadata": {},
     "outputs": [
      {
       "output_type": "stream",
       "stream": "stdout",
       "text": [
        "Line 1 - Value of c is  12\n",
        "Line 2 - Value of c is  61\n",
        "Line 3 - Value of c is  49\n",
        "Line 4 - Value of c is  -61\n",
        "Line 5 - Value of c is  240\n",
        "Line 6 - Value of c is  15\n"
       ]
      }
     ],
     "prompt_number": 108
    },
    {
     "cell_type": "code",
     "collapsed": false,
     "input": [
      "bin(-5)"
     ],
     "language": "python",
     "metadata": {},
     "outputs": [
      {
       "metadata": {},
       "output_type": "pyout",
       "prompt_number": 125,
       "text": [
        "'-0b101'"
       ]
      }
     ],
     "prompt_number": 125
    },
    {
     "cell_type": "code",
     "collapsed": false,
     "input": [],
     "language": "python",
     "metadata": {},
     "outputs": []
    }
   ],
   "metadata": {}
  }
 ]
}