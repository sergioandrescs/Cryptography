{
 "metadata": {
  "name": "",
  "signature": "sha256:2bca19968d5b34a09699843d0b30bbfb03bdc92af4d3f4c0f1a66bdca66973a9"
 },
 "nbformat": 3,
 "nbformat_minor": 0,
 "worksheets": [
  {
   "cells": [
    {
     "cell_type": "code",
     "collapsed": false,
     "input": [
      "%pylab inline\n",
      "import numpy as np\n",
      "from __future__ import division\n",
      "#Caesar cypher\n",
      "#The present code will encode a message with a simple Caesar cypher"
     ],
     "language": "python",
     "metadata": {},
     "outputs": [
      {
       "output_type": "stream",
       "stream": "stdout",
       "text": [
        "Populating the interactive namespace from numpy and matplotlib\n"
       ]
      }
     ],
     "prompt_number": 65
    },
    {
     "cell_type": "code",
     "collapsed": false,
     "input": [
      "def cypher(key,pltext):\n",
      "    cytext=''\n",
      "    cyp={}\n",
      "    abecedary = 'abcdefghijklmnopqrstuvwxyz'\n",
      "        \n",
      "    for i in range(len(pltext)):\n",
      "        cytext+=abecedary[(abecedary.find(pltext[i])+key) % (len(abecedary))]\n",
      "    return cytext"
     ],
     "language": "python",
     "metadata": {},
     "outputs": [],
     "prompt_number": 20
    },
    {
     "cell_type": "code",
     "collapsed": false,
     "input": [
      "message='anitalavalatina'\n",
      "key=4\n",
      "cypher(key,message)"
     ],
     "language": "python",
     "metadata": {},
     "outputs": [
      {
       "metadata": {},
       "output_type": "pyout",
       "prompt_number": 21,
       "text": [
        "'ermxepezepexmre'"
       ]
      }
     ],
     "prompt_number": 21
    },
    {
     "cell_type": "code",
     "collapsed": false,
     "input": [
      "def decypher(key,ctext):\n",
      "    ptext=''\n",
      "    cyp={}\n",
      "    abecedary = 'abcdefghijklmnopqrstuvwxyz'\n",
      "        \n",
      "    for i in range(len(ctext)):\n",
      "        ptext+=abecedary[(abecedary.find(ctext[i])-key) % (len(abecedary))]\n",
      "    return ptext"
     ],
     "language": "python",
     "metadata": {},
     "outputs": [],
     "prompt_number": 28
    },
    {
     "cell_type": "code",
     "collapsed": false,
     "input": [
      "cmessage='fsnyfqfafqfynsf'\n",
      "key=5\n",
      "decypher(key,cmessage)"
     ],
     "language": "python",
     "metadata": {},
     "outputs": [
      {
       "metadata": {},
       "output_type": "pyout",
       "prompt_number": 37,
       "text": [
        "'anitalavalatina'"
       ]
      }
     ],
     "prompt_number": 37
    },
    {
     "cell_type": "code",
     "collapsed": false,
     "input": [],
     "language": "python",
     "metadata": {},
     "outputs": []
    }
   ],
   "metadata": {}
  }
 ]
}