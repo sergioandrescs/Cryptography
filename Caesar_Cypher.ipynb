{
 "metadata": {
  "name": "",
  "signature": "sha256:50a0cf834e7380f736a92aefc6484e23bbbb9194fba9c9449f1f8637a2f3b5e5"
 },
 "nbformat": 3,
 "nbformat_minor": 0,
 "worksheets": [
  {
   "cells": [
    {
     "cell_type": "code",
     "collapsed": false,
     "input": [
      "%pylab inline\n",
      "import numpy as np\n",
      "from __future__ import division\n",
      "#Caesar cypher\n",
      "#The present code will encode a message with a simple Caesar cypher\n",
      "\n",
      "abecedary = 'abcdefghijklmnopqrstuvwxyz'\n",
      "\n",
      "key = 5\n",
      "\n",
      "for i in range(len(abecedary)):\n",
      "    cyp[abecedary[i]]=(i+key) % (len(abecedary))"
     ],
     "language": "python",
     "metadata": {},
     "outputs": [
      {
       "output_type": "stream",
       "stream": "stdout",
       "text": [
        "Populating the interactive namespace from numpy and matplotlib\n"
       ]
      }
     ],
     "prompt_number": 65
    },
    {
     "cell_type": "code",
     "collapsed": false,
     "input": [
      "def cypher(pltext):\n",
      "    cytext=''\n",
      "    for i in range(len(pltext)):\n",
      "        cytext+=abecedary[cyp[pltext[i]]]\n",
      "    return cytext"
     ],
     "language": "python",
     "metadata": {},
     "outputs": [],
     "prompt_number": 66
    },
    {
     "cell_type": "code",
     "collapsed": false,
     "input": [
      "def decypher(ctext):\n",
      "    ptext=''\n",
      "    for i in range(len(ctext)):\n",
      "        ptext+=abecedary[cyp[ctext[i]]-2*key]\n",
      "    return ptext"
     ],
     "language": "python",
     "metadata": {},
     "outputs": [],
     "prompt_number": 79
    },
    {
     "cell_type": "code",
     "collapsed": false,
     "input": [
      "message='anitalavalatina'\n",
      "cypher(message)"
     ],
     "language": "python",
     "metadata": {},
     "outputs": [
      {
       "metadata": {},
       "output_type": "pyout",
       "prompt_number": 82,
       "text": [
        "'fsnyfqfafqfynsf'"
       ]
      }
     ],
     "prompt_number": 82
    },
    {
     "cell_type": "code",
     "collapsed": false,
     "input": [
      "decypher('fsnyfqfafqfynsf')"
     ],
     "language": "python",
     "metadata": {},
     "outputs": [
      {
       "metadata": {},
       "output_type": "pyout",
       "prompt_number": 83,
       "text": [
        "'anitalavalatina'"
       ]
      }
     ],
     "prompt_number": 83
    },
    {
     "cell_type": "code",
     "collapsed": false,
     "input": [],
     "language": "python",
     "metadata": {},
     "outputs": []
    }
   ],
   "metadata": {}
  }
 ]
}