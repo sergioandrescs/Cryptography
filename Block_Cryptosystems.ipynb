{
 "metadata": {
  "name": "",
  "signature": "sha256:36bf086ea657a6f2d5c4d4e37efc91e71795f4a3106dab91fbe84fc4bd7d6430"
 },
 "nbformat": 3,
 "nbformat_minor": 0,
 "worksheets": [
  {
   "cells": [
    {
     "cell_type": "code",
     "collapsed": false,
     "input": [
      "%pylab inline\n",
      "import numpy as np\n",
      "##Cipher feedback(CFB) mode\n",
      "\n",
      "def xor_str(str1,str2):\n",
      "    xor=''\n",
      "    if len(str1)!=len(str2):\n",
      "        raise ValueError('Strings must be of the same legth')\n",
      "    for i in range(len(str1)):\n",
      "        if str1[i]==str2[i]:\n",
      "            xor+='0'\n",
      "        else:\n",
      "            xor+='1'\n",
      "    return xor   "
     ],
     "language": "python",
     "metadata": {},
     "outputs": [
      {
       "output_type": "stream",
       "stream": "stdout",
       "text": [
        "Populating the interactive namespace from numpy and matplotlib\n"
       ]
      }
     ],
     "prompt_number": 14
    },
    {
     "cell_type": "code",
     "collapsed": false,
     "input": [
      "##Encription function example\n",
      "E=['10','00','11','01']"
     ],
     "language": "python",
     "metadata": {},
     "outputs": [],
     "prompt_number": 32
    },
    {
     "cell_type": "code",
     "collapsed": false,
     "input": [
      "mess='101110'\n",
      "S1='10'"
     ],
     "language": "python",
     "metadata": {},
     "outputs": [],
     "prompt_number": 33
    },
    {
     "cell_type": "code",
     "collapsed": false,
     "input": [
      "##k|ptext, k|sreg.\n",
      "def CFB(sreg,ptext,k):\n",
      "    c=''\n",
      "    ctext=''\n",
      "    for i in range(0,len(ptext)//k):\n",
      "        fs=E[int(sreg,2)]\n",
      "        c=xor_str(ptext[i:i+k],fs[0:k])\n",
      "        ctext+=c\n",
      "        sreg=sreg[k:]+c\n",
      "    return ctext\n",
      "    "
     ],
     "language": "python",
     "metadata": {},
     "outputs": [],
     "prompt_number": 68
    },
    {
     "cell_type": "code",
     "collapsed": false,
     "input": [
      "CFB(S1,mess,1)"
     ],
     "language": "python",
     "metadata": {},
     "outputs": [
      {
       "metadata": {},
       "output_type": "pyout",
       "prompt_number": 69,
       "text": [
        "'011110'"
       ]
      }
     ],
     "prompt_number": 69
    },
    {
     "cell_type": "code",
     "collapsed": false,
     "input": [
      "def OFB(sreg,ptext,k):\n",
      "    c=''\n",
      "    ctext=''\n",
      "    for i in range(0,len(ptext)//k):\n",
      "        fs=E[int(sreg,2)]\n",
      "        c=xor_str(ptext[i:i+k],fs[0:k])\n",
      "        ctext+=c\n",
      "        sreg=sreg[k:]+fs[0:k]\n",
      "    return ctext\n",
      "    "
     ],
     "language": "python",
     "metadata": {},
     "outputs": [],
     "prompt_number": 70
    },
    {
     "cell_type": "code",
     "collapsed": false,
     "input": [
      "OFB(S1,mess,1)"
     ],
     "language": "python",
     "metadata": {},
     "outputs": [
      {
       "metadata": {},
       "output_type": "pyout",
       "prompt_number": 71,
       "text": [
        "'000100'"
       ]
      }
     ],
     "prompt_number": 71
    },
    {
     "cell_type": "code",
     "collapsed": false,
     "input": [],
     "language": "python",
     "metadata": {},
     "outputs": []
    }
   ],
   "metadata": {}
  }
 ]
}