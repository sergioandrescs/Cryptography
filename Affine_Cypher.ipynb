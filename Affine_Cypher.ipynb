{
 "metadata": {
  "name": "",
  "signature": "sha256:6c0c29c17486155e70b1f290da5b7d9b57b59ee019e686a46a8c7e7a4af4555f"
 },
 "nbformat": 3,
 "nbformat_minor": 0,
 "worksheets": [
  {
   "cells": [
    {
     "cell_type": "code",
     "collapsed": false,
     "input": [
      "%pylab inline\n",
      "import numpy as np\n",
      "##Affine Cyphers\n",
      "##This kind of cyphers are the general description of the shift cypher\n",
      "##Afine cyphers are described by two integers psi(x)=ax+b (mod m)\n",
      "## m is the number of letters in the alphabet\n",
      "## a should be a relative prime of m\n",
      "##This implies taht a has an inverse multiplicative mod m\n",
      "\n",
      "# Greatest common divisor. Code from Lib/fractions.py\n",
      "def gcd(a,b):\n",
      "    while b:\n",
      "        a, b = b, a%b\n",
      "    return a\n",
      "\n",
      "\n",
      "def affine_cypher(alpha,beta,ptext):\n",
      "    abecedary = 'abcdefghijklmnopqrstuvwxyz'\n",
      "    ctext=''\n",
      "    xvar = yvar = 0\n",
      "    if gcd(alpha,len(abecedary))!=1:\n",
      "        raise ValueError(\"Alpha should be a relative prime of the alphabet's leght\")\n",
      "    for i in ptext:\n",
      "        xvar = abecedary.find(i)\n",
      "        yvar = abecedary[((alpha*xvar) + beta)%len(abecedary)]\n",
      "        ctext+=(yvar)\n",
      "    ctext=ctext.upper()\n",
      "    return ctext"
     ],
     "language": "python",
     "metadata": {},
     "outputs": [
      {
       "output_type": "stream",
       "stream": "stdout",
       "text": [
        "Populating the interactive namespace from numpy and matplotlib\n"
       ]
      }
     ],
     "prompt_number": 26
    },
    {
     "cell_type": "code",
     "collapsed": false,
     "input": [
      "affine_cypher(5,8,'anitalavalatina')"
     ],
     "language": "python",
     "metadata": {},
     "outputs": [
      {
       "metadata": {},
       "output_type": "pyout",
       "prompt_number": 38,
       "text": [
        "'IVWZILIJILIZWVI'"
       ]
      }
     ],
     "prompt_number": 38
    },
    {
     "cell_type": "code",
     "collapsed": false,
     "input": [
      "affine_cypher(13,8,'oso')"
     ],
     "language": "python",
     "metadata": {},
     "outputs": [
      {
       "ename": "ValueError",
       "evalue": "Alpha should be a relative prime of the alphabet's leght",
       "output_type": "pyerr",
       "traceback": [
        "\u001b[1;31m---------------------------------------------------------------------------\u001b[0m\n\u001b[1;31mValueError\u001b[0m                                Traceback (most recent call last)",
        "\u001b[1;32m<ipython-input-28-5640934711dc>\u001b[0m in \u001b[0;36m<module>\u001b[1;34m()\u001b[0m\n\u001b[1;32m----> 1\u001b[1;33m \u001b[0maffine_cypher\u001b[0m\u001b[1;33m(\u001b[0m\u001b[1;36m13\u001b[0m\u001b[1;33m,\u001b[0m\u001b[1;36m8\u001b[0m\u001b[1;33m,\u001b[0m\u001b[1;34m'oso'\u001b[0m\u001b[1;33m)\u001b[0m\u001b[1;33m\u001b[0m\u001b[0m\n\u001b[0m",
        "\u001b[1;32m<ipython-input-26-438af7e6cac3>\u001b[0m in \u001b[0;36maffine_cypher\u001b[1;34m(alpha, beta, ptext)\u001b[0m\n\u001b[0;32m     20\u001b[0m     \u001b[0mxvar\u001b[0m \u001b[1;33m=\u001b[0m \u001b[0myvar\u001b[0m \u001b[1;33m=\u001b[0m \u001b[1;36m0\u001b[0m\u001b[1;33m\u001b[0m\u001b[0m\n\u001b[0;32m     21\u001b[0m     \u001b[1;32mif\u001b[0m \u001b[0mgcd\u001b[0m\u001b[1;33m(\u001b[0m\u001b[0malpha\u001b[0m\u001b[1;33m,\u001b[0m\u001b[0mlen\u001b[0m\u001b[1;33m(\u001b[0m\u001b[0mabecedary\u001b[0m\u001b[1;33m)\u001b[0m\u001b[1;33m)\u001b[0m\u001b[1;33m!=\u001b[0m\u001b[1;36m1\u001b[0m\u001b[1;33m:\u001b[0m\u001b[1;33m\u001b[0m\u001b[0m\n\u001b[1;32m---> 22\u001b[1;33m         \u001b[1;32mraise\u001b[0m \u001b[0mValueError\u001b[0m\u001b[1;33m(\u001b[0m\u001b[1;34m\"Alpha should be a relative prime of the alphabet's leght\"\u001b[0m\u001b[1;33m)\u001b[0m\u001b[1;33m\u001b[0m\u001b[0m\n\u001b[0m\u001b[0;32m     23\u001b[0m     \u001b[1;32mfor\u001b[0m \u001b[0mi\u001b[0m \u001b[1;32min\u001b[0m \u001b[0mptext\u001b[0m\u001b[1;33m:\u001b[0m\u001b[1;33m\u001b[0m\u001b[0m\n\u001b[0;32m     24\u001b[0m         \u001b[0mxvar\u001b[0m \u001b[1;33m=\u001b[0m \u001b[0mabecedary\u001b[0m\u001b[1;33m.\u001b[0m\u001b[0mfind\u001b[0m\u001b[1;33m(\u001b[0m\u001b[0mi\u001b[0m\u001b[1;33m)\u001b[0m\u001b[1;33m\u001b[0m\u001b[0m\n",
        "\u001b[1;31mValueError\u001b[0m: Alpha should be a relative prime of the alphabet's leght"
       ]
      }
     ],
     "prompt_number": 28
    },
    {
     "cell_type": "code",
     "collapsed": false,
     "input": [
      "def dec_affine_cypher(alpha,beta,ctext):\n",
      "    ctext=ctext.lower()\n",
      "    abecedary = 'abcdefghijklmnopqrstuvwxyz'\n",
      "    ptext=''\n",
      "    xvar = yvar = 0\n",
      "    if gcd(alpha,len(abecedary))!=1:\n",
      "        raise ValueError(\"Alpha should be a relative prime of the alphabet's leght\")\n",
      "    ##Multiplicative inverse of alpha in mod(len(abecedary)). Extended euclidean algorith.\n",
      "    U=np.array([len(abecedary),1,0])\n",
      "    V=np.array([alpha,0,1])\n",
      "    W=np.array([0,0,0])\n",
      "    while V[0]>0:\n",
      "        W=U-int(floor(U[0]/V[0]))*V\n",
      "        U=V\n",
      "        V=W\n",
      "    ainv=U[2]%len(abecedary)\n",
      "    for i in ctext:\n",
      "        xvar=abecedary.find(i)\n",
      "        yvar=abecedary[(ainv*(xvar-beta))%len(abecedary)]\n",
      "        ptext+=yvar\n",
      "    return ptext\n",
      "    \n",
      "    "
     ],
     "language": "python",
     "metadata": {},
     "outputs": [],
     "prompt_number": 36
    },
    {
     "cell_type": "code",
     "collapsed": false,
     "input": [
      "dec_affine_cypher(5,8,'IVWZILIJILIZWVI')"
     ],
     "language": "python",
     "metadata": {},
     "outputs": [
      {
       "metadata": {},
       "output_type": "pyout",
       "prompt_number": 39,
       "text": [
        "'anitalavalatina'"
       ]
      }
     ],
     "prompt_number": 39
    },
    {
     "cell_type": "code",
     "collapsed": false,
     "input": [],
     "language": "python",
     "metadata": {},
     "outputs": []
    }
   ],
   "metadata": {}
  }
 ]
}