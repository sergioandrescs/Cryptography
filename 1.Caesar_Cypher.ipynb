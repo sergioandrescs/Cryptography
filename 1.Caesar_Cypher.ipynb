{
 "metadata": {
  "name": "",
  "signature": "sha256:8a783bbc320e8cd310bc7e764f6e3c14a0ff8043751cab79b4fe6875f6c5a630"
 },
 "nbformat": 3,
 "nbformat_minor": 0,
 "worksheets": [
  {
   "cells": [
    {
     "cell_type": "code",
     "collapsed": false,
     "input": [
      "%pylab inline\n",
      "import numpy as np\n",
      "#Caesar cypher.\n",
      "#The present code will encode a message with a simple Caesar cypher.\n",
      "#The following code uses an integer > 26 as a key and a plaintext to cypher."
     ],
     "language": "python",
     "metadata": {},
     "outputs": [
      {
       "output_type": "stream",
       "stream": "stdout",
       "text": [
        "Populating the interactive namespace from numpy and matplotlib\n"
       ]
      }
     ],
     "prompt_number": 6
    },
    {
     "cell_type": "code",
     "collapsed": false,
     "input": [
      "def cypher(key,pltext):\n",
      "    if (type(key)) !=int or key>25:\n",
      "        raise ValueError(\"The used key must be an integer < 26.\")\n",
      "    cytext=''\n",
      "    abecedary = 'abcdefghijklmnopqrstuvwxyz'\n",
      "        \n",
      "    for i in pltext:\n",
      "        cytext+=abecedary[(abecedary.find(i)+key) % (len(abecedary))]\n",
      "    return cytext.upper()"
     ],
     "language": "python",
     "metadata": {},
     "outputs": [],
     "prompt_number": 19
    },
    {
     "cell_type": "code",
     "collapsed": false,
     "input": [
      "message='anitalavalatina'\n",
      "key=4\n",
      "cypher(key,message)"
     ],
     "language": "python",
     "metadata": {},
     "outputs": [
      {
       "metadata": {},
       "output_type": "pyout",
       "prompt_number": 26,
       "text": [
        "'ERMXEPEZEPEXMRE'"
       ]
      }
     ],
     "prompt_number": 26
    },
    {
     "cell_type": "code",
     "collapsed": false,
     "input": [
      "def decypher(key,ctext):\n",
      "    ptext=''\n",
      "    cyp={}\n",
      "    abecedary = 'ABCDEFGHIJKLMNOPQRSTUVWXYZ'\n",
      "        \n",
      "    for i in ctext:\n",
      "        ptext+=abecedary[(abecedary.find(i)-key) % (len(abecedary))]\n",
      "    return ptext.lower()"
     ],
     "language": "python",
     "metadata": {},
     "outputs": [],
     "prompt_number": 27
    },
    {
     "cell_type": "code",
     "collapsed": false,
     "input": [
      "cmessage='ERMXEPEZEPEXMRE'\n",
      "key=4\n",
      "decypher(key,cmessage)"
     ],
     "language": "python",
     "metadata": {},
     "outputs": [
      {
       "metadata": {},
       "output_type": "pyout",
       "prompt_number": 28,
       "text": [
        "'anitalavalatina'"
       ]
      }
     ],
     "prompt_number": 28
    },
    {
     "cell_type": "code",
     "collapsed": false,
     "input": [],
     "language": "python",
     "metadata": {},
     "outputs": []
    }
   ],
   "metadata": {}
  }
 ]
}