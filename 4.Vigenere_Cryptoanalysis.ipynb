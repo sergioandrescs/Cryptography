{
 "metadata": {
  "name": "",
  "signature": "sha256:53594c93c99557cd0470548d42e6f9d3708fd4c3befd2a375bc10823c70a1f52"
 },
 "nbformat": 3,
 "nbformat_minor": 0,
 "worksheets": [
  {
   "cells": [
    {
     "cell_type": "code",
     "collapsed": false,
     "input": [
      "%pylab inline\n",
      "import numpy as np\n",
      "from __future__ import division\n",
      "##Vigenere cypher cryptoanalysis\n",
      "##1) Determine key length\n",
      "##2) Determine key letters using the index of coincidence\n",
      "\n",
      "abecedary='abcdefghijklmnopqrstuvwxyz'\n",
      "\n",
      "eng_frec=[0.082,0.015,0.028,0.043,0.127,0.022,0.020,0.061,0.070,0.002,0.008,0.04,0.024,0.067,0.075,0.019,0.001,0.06,0.063,0.091,\n",
      "          0.028,0.010,0.023,0.001,0.020,0.001]\n"
     ],
     "language": "python",
     "metadata": {},
     "outputs": [
      {
       "output_type": "stream",
       "stream": "stdout",
       "text": [
        "Populating the interactive namespace from numpy and matplotlib\n"
       ]
      }
     ],
     "prompt_number": 172
    },
    {
     "cell_type": "code",
     "collapsed": false,
     "input": [
      "##Leter counting\n",
      "##Index from the given abecedary\n",
      "\n",
      "def letter_count(text):\n",
      "    text=text.lower()\n",
      "    text=text.replace(' ','')\n",
      "    frec=[]\n",
      "    for i in abecedary:\n",
      "        frec.append(text.count(i)/len(text))\n",
      "    return frec    "
     ],
     "language": "python",
     "metadata": {},
     "outputs": [],
     "prompt_number": 173
    },
    {
     "cell_type": "code",
     "collapsed": false,
     "input": [
      "ctext='PDYTHXYNAWHMITHLLMGCIFHEWZPULSPEOICCLVNQZTHZPGZHVVDLHWPNEBXGPXYMCZPHTPGZHVVDTMGCIXOVVHXUEZTCNASRCUYHECUGQTOUGRGPUKSSLHWDAFHZSSWCDSPYUGWBLFTGTLWAKPGYVOBPUGRHSYKCHPZHFXEMASHPYFSSWCDSPSIKGTXUDWCRUMOUPHVSDFNKOVPINGAJBBUWEBXAPYHXFDQBXFHNLTAQWYHJTCNASHPQTZADIYKPEYKWHLGRGITWMVXYATBSXIKSDGYKOIEBXHDAIYHWPGPSGPIKRXYUKWAJNASHPJKCQWYFGXYQAWIPQTHTCNASUZUFFPNCGUSZQGTGZGMVTDOFAXEIYSPNBPOKPLXEJTLBBVLHXKAPUIOCOUESPAZKCBEBXOXC'"
     ],
     "language": "python",
     "metadata": {},
     "outputs": [],
     "prompt_number": 174
    },
    {
     "cell_type": "code",
     "collapsed": false,
     "input": [
      "print ctext"
     ],
     "language": "python",
     "metadata": {},
     "outputs": [
      {
       "output_type": "stream",
       "stream": "stdout",
       "text": [
        "PDYTHXYNAWHMITHLLMGCIFHEWZPULSPEOICCLVNQZTHZPGZHVVDLHWPNEBXGPXYMCZPHTPGZHVVDTMGCIXOVVHXUEZTCNASRCUYHECUGQTOUGRGPUKSSLHWDAFHZSSWCDSPYUGWBLFTGTLWAKPGYVOBPUGRHSYKCHPZHFXEMASHPYFSSWCDSPSIKGTXUDWCRUMOUPHVSDFNKOVPINGAJBBUWEBXAPYHXFDQBXFHNLTAQWYHJTCNASHPQTZADIYKPEYKWHLGRGITWMVXYATBSXIKSDGYKOIEBXHDAIYHWPGPSGPIKRXYUKWAJNASHPJKCQWYFGXYQAWIPQTHTCNASUZUFFPNCGUSZQGTGZGMVTDOFAXEIYSPNBPOKPLXEJTLBBVLHXKAPUIOCOUESPAZKCBEBXOXC\n"
       ]
      }
     ],
     "prompt_number": 175
    },
    {
     "cell_type": "code",
     "collapsed": false,
     "input": [
      "##The following function counts the number of exact coincidences by shifting a copy of the ctext\n",
      "def match_shift(text,max_shift):\n",
      "    utext = dtext = text\n",
      "    utext = utext.replace(utext[0],'',1) + ' '\n",
      "    matches = []\n",
      "    for i in range(max_shift):\n",
      "        coin = 0\n",
      "        coin = sum(ulet == dlet for ulet,dlet in zip(utext,dtext))\n",
      "        matches.append([i+1,coin])\n",
      "        utext = utext.replace(utext[0],'',1) + ' '       \n",
      "    return matches \n",
      "    "
     ],
     "language": "python",
     "metadata": {},
     "outputs": [],
     "prompt_number": 176
    },
    {
     "cell_type": "code",
     "collapsed": false,
     "input": [
      "match_shift(ctext,15)"
     ],
     "language": "python",
     "metadata": {},
     "outputs": [
      {
       "metadata": {},
       "output_type": "pyout",
       "prompt_number": 177,
       "text": [
        "[[1, 11],\n",
        " [2, 12],\n",
        " [3, 11],\n",
        " [4, 12],\n",
        " [5, 30],\n",
        " [6, 15],\n",
        " [7, 15],\n",
        " [8, 18],\n",
        " [9, 16],\n",
        " [10, 28],\n",
        " [11, 11],\n",
        " [12, 15],\n",
        " [13, 13],\n",
        " [14, 16],\n",
        " [15, 29]]"
       ]
      }
     ],
     "prompt_number": 177
    },
    {
     "cell_type": "code",
     "collapsed": false,
     "input": [
      "##The next function predicts the key of a Vigenere cypher\n",
      "##Defining the key lenght, the code realize a dot product between the frecuency of each letter in the cyphertext\n",
      "##whose position is congruent to i(mod (key_lenght)), 0 <= i < key_lenght.The biggest dot produnt defines the key_letter.\n",
      "def vigenere_key(lkey,text):\n",
      "    key = ''\n",
      "    info=[]\n",
      "    for i in range(lkey):\n",
      "        info.append([''])\n",
      "    for i in range(0,len(text)):    \n",
      "        info[i%lkey][0]+=text[i]\n",
      "    for i in range(lkey):\n",
      "        info[i].append(letter_count(info[i][0]))\n",
      "        letter=0\n",
      "        dot_p_max = 0\n",
      "        for j in range(len(abecedary)):\n",
      "            ##Dot Product\n",
      "            dot_p = 0\n",
      "            for k in range(len(abecedary)):\n",
      "                dot_p +=info[i][1][k]*eng_frec[(k-j)%len(abecedary)]\n",
      "            if dot_p > dot_p_max:\n",
      "                dot_p_max = dot_p\n",
      "                letter = j\n",
      "        key += abecedary[letter]\n",
      "            \n",
      "    return key"
     ],
     "language": "python",
     "metadata": {},
     "outputs": [],
     "prompt_number": 178
    },
    {
     "cell_type": "code",
     "collapsed": false,
     "input": [
      "vigenere_key(5,ctext)\n"
     ],
     "language": "python",
     "metadata": {},
     "outputs": [
      {
       "metadata": {},
       "output_type": "pyout",
       "prompt_number": 179,
       "text": [
        "'pluto'"
       ]
      }
     ],
     "prompt_number": 179
    },
    {
     "cell_type": "code",
     "collapsed": false,
     "input": [
      "nctext = 'ZADOMOVQKLPPFTBKDEVCOPLJFATPFCBJRXWYXLAQEIDZUSWUVGGOFWXQKICNBEMUFJIBFDKJFSAQIZRQPMCNIPAORVIIGEPGZVHOCUMEKWDHUSMEFRILBCGJVESGJYQUKIGYEUCUKMRYXTBJUMHWSTUKEEICPYZCKLTLUSIPJIKYSTBAKEZCORBJVFJLUSMPFJUNIPJCTOHIGEPGNIPEBYLNRCXHHTBQEXWITPWHKLTMUCWPXCDOSXMTVTJHZDBTZTACORBJRXLCONMFRXIBFWMCJXUFPFZKJLDZUSMTFHLUTAIUJISVZHQVYMCXVWOGEGTVVEBJVGAUJXAQWNJMUTKGNIGYTLBKJJXYEMGKEJACDEQPXESIVMTGGSGNJZVQEWDGFWQVKPTNPFOJNVDHHSMCUISVSZIFJOXLUPLFLXRBVCKJZRLBPDCNBISUOOAYVPAYELVFXVTQEZOIVHPHEDCNCICVFYMCKLIBFMQTTLPFMEPKJLTWBWTGUHDCORPKJHJNZMGVYIXLQLZGEXHUOOPGEIKYSTVHCMRNFOIEYEHNJDMOVRIQJEPQLXUIMWWYZRVCUMGVYIPMTFZCEGTMPNWPJSAUUZZAKSIBFDUCIXXHHFZEYMCNILBJVADOMOZGDIBVFCQVRRSNILVMYMBZPCQVKLTFPYOGJXSUZSMJRHIIMTDG'"
     ],
     "language": "python",
     "metadata": {},
     "outputs": [],
     "prompt_number": 180
    },
    {
     "cell_type": "code",
     "collapsed": false,
     "input": [
      "match_shift(nctext,8)"
     ],
     "language": "python",
     "metadata": {},
     "outputs": [
      {
       "metadata": {},
       "output_type": "pyout",
       "prompt_number": 181,
       "text": [
        "[[1, 19], [2, 19], [3, 15], [4, 23], [5, 21], [6, 20], [7, 31], [8, 43]]"
       ]
      }
     ],
     "prompt_number": 181
    },
    {
     "cell_type": "code",
     "collapsed": false,
     "input": [
      "vigenere_key(8,nctext)"
     ],
     "language": "python",
     "metadata": {},
     "outputs": [
      {
       "metadata": {},
       "output_type": "pyout",
       "prompt_number": 182,
       "text": [
        "'republic'"
       ]
      }
     ],
     "prompt_number": 182
    },
    {
     "cell_type": "code",
     "collapsed": false,
     "input": [],
     "language": "python",
     "metadata": {},
     "outputs": []
    }
   ],
   "metadata": {}
  }
 ]
}