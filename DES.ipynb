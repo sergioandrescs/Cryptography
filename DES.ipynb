{
 "metadata": {
  "name": "",
  "signature": "sha256:0daff8aa50a4cc994b10e6579e7af5eefdb697d89ed19bea426f4e0b891d8cdc"
 },
 "nbformat": 3,
 "nbformat_minor": 0,
 "worksheets": [
  {
   "cells": [
    {
     "cell_type": "code",
     "collapsed": false,
     "input": [
      "%pylab inline\n",
      "import numpy as np\n",
      "#Implementation of the Data Encryption Standard\n",
      "\n"
     ],
     "language": "python",
     "metadata": {},
     "outputs": [
      {
       "output_type": "stream",
       "stream": "stdout",
       "text": [
        "Populating the interactive namespace from numpy and matplotlib\n"
       ]
      }
     ],
     "prompt_number": 452
    },
    {
     "cell_type": "code",
     "collapsed": false,
     "input": [
      "def xor_str(str1,str2):\n",
      "    xor=''\n",
      "    if len(str1)!=len(str2):\n",
      "        raise ValueError('Strings must be of the same legth')\n",
      "    for i in range(len(str1)):\n",
      "        if str1[i]==str2[i]:\n",
      "            xor+='0'\n",
      "        else:\n",
      "            xor+='1'\n",
      "    return xor   \n"
     ],
     "language": "python",
     "metadata": {},
     "outputs": [],
     "prompt_number": 453
    },
    {
     "cell_type": "code",
     "collapsed": false,
     "input": [
      "time(xor_str('1100101001010100100010110100','1101001010010100100010100111'))"
     ],
     "language": "python",
     "metadata": {},
     "outputs": [
      {
       "output_type": "stream",
       "stream": "stdout",
       "text": [
        "CPU times: user 14 \u00b5s, sys: 2 \u00b5s, total: 16 \u00b5s\n",
        "Wall time: 18.8 \u00b5s\n"
       ]
      },
      {
       "metadata": {},
       "output_type": "pyout",
       "prompt_number": 454,
       "text": [
        "'0001100011000000000000010011'"
       ]
      }
     ],
     "prompt_number": 454
    },
    {
     "cell_type": "code",
     "collapsed": false,
     "input": [
      "time(0b11001010010100010110100^0b11010010100100010100111)"
     ],
     "language": "python",
     "metadata": {},
     "outputs": [
      {
       "output_type": "stream",
       "stream": "stdout",
       "text": [
        "CPU times: user 0 ns, sys: 0 ns, total: 0 ns\n",
        "Wall time: 8.11 \u00b5s\n"
       ]
      },
      {
       "metadata": {},
       "output_type": "pyout",
       "prompt_number": 455,
       "text": [
        "811027"
       ]
      }
     ],
     "prompt_number": 455
    },
    {
     "cell_type": "code",
     "collapsed": false,
     "input": [
      "def key_gen():\n",
      "    key=''\n",
      "    for i in range(64):       \n",
      "        if len(key)>0 and (i+1)%8==0:\n",
      "            if key.count('1',i-7,i)%2 == 0:\n",
      "                key+='1'\n",
      "            else:\n",
      "                key+='0'\n",
      "        else:\n",
      "             key+=str(np.random.random_integers(0,1))\n",
      "    return key\n",
      "    "
     ],
     "language": "python",
     "metadata": {},
     "outputs": [],
     "prompt_number": 456
    },
    {
     "cell_type": "code",
     "collapsed": false,
     "input": [
      "k=key_gen()\n",
      "print k"
     ],
     "language": "python",
     "metadata": {},
     "outputs": [
      {
       "output_type": "stream",
       "stream": "stdout",
       "text": [
        "0011111001101101011100110101100000101010011001111010111001000000\n"
       ]
      }
     ],
     "prompt_number": 457
    },
    {
     "cell_type": "code",
     "collapsed": false,
     "input": [
      "def keycheck(key):\n",
      "    count=0\n",
      "    check=True\n",
      "    for i in range(64):\n",
      "        if i==1:\n",
      "            count+=1\n",
      "        if i!=0 and i%8==0 and count%2==0:\n",
      "                raise ValueError('Key does not fit odd parity.')\n",
      "    if check:\n",
      "        print 'Check!!!'\n",
      "        "
     ],
     "language": "python",
     "metadata": {},
     "outputs": [],
     "prompt_number": 458
    },
    {
     "cell_type": "code",
     "collapsed": false,
     "input": [
      "keycheck(k)"
     ],
     "language": "python",
     "metadata": {},
     "outputs": [
      {
       "output_type": "stream",
       "stream": "stdout",
       "text": [
        "Check!!!\n"
       ]
      }
     ],
     "prompt_number": 459
    },
    {
     "cell_type": "code",
     "collapsed": false,
     "input": [
      "\n",
      "P0=[58,50,42,34,26,18,10,2,60,52,44,36,28,20,12,4,\n",
      "    62,54,46,38,30,22,14,6,64,56,48,40,32,24,16,8,\n",
      "    57,49,41,33,25,17,9,1,59,51,43,35,27,19,11,3,\n",
      "    61,53,45,37,29,21,13,5,63,55,47,39,31,23,15,7]\n",
      "\n",
      "IKPER=[57,49,41,33,25,17,9,1,58,50,42,34,26,18,10,2,\n",
      "       59,51,43,35,27,19,11,3,60,52,44,36,63,55,47,39,\n",
      "       31,23,15,7,62,54,46,38,30,22,14,6,61,53,45,37,\n",
      "       29,21,13,5,28,20,12,4]\n",
      "FKPER=[14,17,11,24,1,5,3,28,15,6,21,10,23,19,12,4,\n",
      "       26,8,16,7,27,20,13,2,41,52,31,37,47,55,30,40,\n",
      "       51,45,33,48,44,49,39,56,34,53,46,42,50,36,29,32]\n",
      "EXPFUN=[32,1,2,3,4,5,4,5,6,7,8,9,8,9,10,11,\n",
      "        12,13,12,13,14,15,16,17,16,17,18,19,20,21,20,21,\n",
      "        22,23,24,25,24,25,26,27,28,29,28,29,30,31,32,1]\n",
      "SBOX = [\n",
      "    [\n",
      "        [14, 4, 13, 1, 2, 15, 11, 8, 3, 10, 6, 12, 5, 9, 0, 7],\n",
      "        [0, 15, 7, 4, 14, 2, 13, 1, 10, 6, 12, 11, 9, 5, 3, 8],\n",
      "        [4, 1, 14, 8, 13, 6, 2, 11, 15, 12, 9, 7, 3, 10, 5, 0],\n",
      "        [15, 12, 8, 2, 4, 9, 1, 7, 5, 11, 3, 14, 10, 0, 6, 13]\n",
      "    ],\n",
      "    [\n",
      "        [15, 1, 8, 14, 6, 11, 3, 4, 9, 7, 2, 13, 12, 0, 5, 10],\n",
      "        [3, 13, 4, 7, 15, 2, 8, 14, 12, 0, 1, 10, 6, 9, 11, 5],\n",
      "        [0, 14, 7, 11, 10, 4, 13, 1, 5, 8, 12, 6, 9, 3, 2, 15],\n",
      "        [13, 8, 10, 1, 3, 15, 4, 2, 11, 6, 7, 12, 0, 5, 14, 9]\n",
      "    ],\n",
      "    [\n",
      "        [10, 0, 9, 14, 6, 3, 15, 5, 1, 13, 12, 7, 11, 4, 2, 8],\n",
      "        [13, 7, 0, 9, 3, 4, 6, 10, 2, 8, 5, 14, 12, 11, 15, 1],\n",
      "        [13, 6, 4, 9, 8, 15, 3, 0, 11, 1, 2, 12, 5, 10, 14, 7],\n",
      "        [1, 10, 13, 0, 6, 9, 8, 7, 4, 15, 14, 3, 11, 5, 2, 12]\n",
      "    ],\n",
      "    [\n",
      "        [7, 13, 14, 3, 0, 6, 9, 10, 1, 2, 8, 5, 11, 12, 4, 15],\n",
      "        [13, 8, 11, 5, 6, 15, 0, 3, 4, 7, 2, 12, 1, 10, 14, 9],\n",
      "        [10, 6, 9, 0, 12, 11, 7, 13, 15, 1, 3, 14, 5, 2, 8, 4],\n",
      "        [3, 15, 0, 6, 10, 1, 13, 8, 9, 4, 5, 11, 12, 7, 2, 14]\n",
      "    ],\n",
      "    [\n",
      "        [2, 12, 4, 1, 7, 10, 11, 6, 8, 5, 3, 15, 13, 0, 14, 9],\n",
      "        [14, 11, 2, 12, 4, 7, 13, 1, 5, 0, 15, 10, 3, 9, 8, 6],\n",
      "        [4, 2, 1, 11, 10, 13, 7, 8, 15, 9, 12, 5, 6, 3, 0, 14],\n",
      "        [11, 8, 12, 7, 1, 14, 2, 13, 6, 15, 0, 9, 10, 4, 5, 3]\n",
      "    ],\n",
      "    [\n",
      "        [12, 1, 10, 15, 9, 2, 6, 8, 0, 13, 3, 4, 14, 7, 5, 11],\n",
      "        [10, 15, 4, 2, 7, 12, 9, 5, 6, 1, 13, 14, 0, 11, 3, 8],\n",
      "        [9, 14, 15, 5, 2, 8, 12, 3, 7, 0, 4, 10, 1, 13, 11, 6],\n",
      "        [4, 3, 2, 12, 9, 5, 15, 10, 11, 14, 1, 7, 6, 0, 8, 13]\n",
      "    ],\n",
      "    [\n",
      "        [4, 11, 2, 14, 15, 0, 8, 13, 3, 12, 9, 7, 5, 10, 6, 1],\n",
      "        [13, 0, 11, 7, 4, 9, 1, 10, 14, 3, 5, 12, 2, 15, 8, 6],\n",
      "        [1, 4, 11, 13, 12, 3, 7, 14, 10, 15, 6, 8, 0, 5, 9, 2],\n",
      "        [6, 11, 13, 8, 1, 4, 10, 7, 9, 5, 0, 15, 14, 2, 3, 12]\n",
      "    ],\n",
      "    [\n",
      "        [13, 2, 8, 4, 6, 15, 11, 1, 10, 9, 3, 14, 5, 0, 12, 7],\n",
      "        [1, 15, 13, 8, 10, 3, 7, 4, 12, 5, 6, 11, 0, 14, 9, 2],\n",
      "        [7, 11, 4, 1, 9, 12, 14, 2, 0, 6, 10, 13, 15, 3, 5, 8],\n",
      "        [2, 1, 14, 7, 4, 10, 8, 13, 15, 12, 9, 0, 3, 5, 6, 11]\n",
      "    ]\n",
      "]\n",
      "PFROUND=[16,7,20,21,29,12,28,17,1,15,23,26,5,18,31,10,\n",
      "            2,8,24,14,32,27,3,9,19,13,30,6,22,11,4,25]\n",
      "PF=[40,8,48,16,56,24,64,32,39,7,47,15,55,23,63,31,38,\n",
      "    6,46,14,54,22,62,30,37,5,45,13,53,21,61,29,36,\n",
      "    4,44,12,52,20,60,28,35,3,43,11,51,19,59,27,34,\n",
      "    2,42,10,50,18,58,26,33,1,41,9,49,17,57,25]\n"
     ],
     "language": "python",
     "metadata": {},
     "outputs": [],
     "prompt_number": 460
    },
    {
     "cell_type": "code",
     "collapsed": false,
     "input": [
      "mess='0000000100100011010001010110011110001001101010111100110111101111'\n",
      "key='0001001100110100010101110111100110011011101111001101111111110001'\n",
      "print mess\n",
      "print key[28:56]\n",
      "\n"
     ],
     "language": "python",
     "metadata": {},
     "outputs": [
      {
       "output_type": "stream",
       "stream": "stdout",
       "text": [
        "0000000100100011010001010110011110001001101010111100110111101111\n",
        "1001100110111011110011011111\n"
       ]
      }
     ],
     "prompt_number": 461
    },
    {
     "cell_type": "code",
     "collapsed": false,
     "input": [
      "##Initialize the message. Initial permutation, right-left return.\n",
      "def ini_ptext(ptext):\n",
      "    pertext=''\n",
      "    for i in P0:\n",
      "        pertext+=ptext[i-1]\n",
      "    return pertext[0:32],pertext[32:64]\n",
      "    "
     ],
     "language": "python",
     "metadata": {},
     "outputs": [],
     "prompt_number": 462
    },
    {
     "cell_type": "code",
     "collapsed": false,
     "input": [
      "L0,R0 = ini_ptext(mess)\n",
      "print L0,R0"
     ],
     "language": "python",
     "metadata": {},
     "outputs": [
      {
       "output_type": "stream",
       "stream": "stdout",
       "text": [
        "11001100000000001100110011111111 11110000101010101111000010101010\n"
       ]
      }
     ],
     "prompt_number": 463
    },
    {
     "cell_type": "code",
     "collapsed": false,
     "input": [
      "##C0,D0 generator\n",
      "def C0_D0_key(key):\n",
      "    C0=D0=''\n",
      "    for i in IKPER[0:28]:\n",
      "        C0+=key[i-1]\n",
      "    for i in IKPER[28:56]:\n",
      "        D0+=key[i-1]\n",
      "    return C0,D0   \n",
      "    "
     ],
     "language": "python",
     "metadata": {},
     "outputs": [],
     "prompt_number": 464
    },
    {
     "cell_type": "code",
     "collapsed": false,
     "input": [
      "C0,D0 = C0_D0_key(key)\n",
      "print C0,D0"
     ],
     "language": "python",
     "metadata": {},
     "outputs": [
      {
       "output_type": "stream",
       "stream": "stdout",
       "text": [
        "1111000011001100101010101111 0101010101100110011110001111\n"
       ]
      }
     ],
     "prompt_number": 465
    },
    {
     "cell_type": "code",
     "collapsed": false,
     "input": [
      "##Key generator for every 16 rounds. \n",
      "def key_round(C0,D0,Round):\n",
      "    CR=DR='' \n",
      "    lstp=2*Round\n",
      "    rkey=''\n",
      "    for i in range(Round):\n",
      "        if (i+1) in [1,2,9,16]:\n",
      "            lstp-=1\n",
      "\n",
      "    for i in range(len(C0)):\n",
      "        CR+=C0[(i+lstp)%len(C0)]\n",
      "        DR+=D0[(i+lstp)%len(D0)]\n",
      "    for i in FKPER:\n",
      "        rkey+=(CR+DR)[i-1]\n",
      "    return rkey"
     ],
     "language": "python",
     "metadata": {},
     "outputs": [],
     "prompt_number": 466
    },
    {
     "cell_type": "code",
     "collapsed": false,
     "input": [
      "rkey =key_round(C0,D0,1)\n",
      "print rkey"
     ],
     "language": "python",
     "metadata": {},
     "outputs": [
      {
       "output_type": "stream",
       "stream": "stdout",
       "text": [
        "000110110000001011101111111111000111000001110010\n"
       ]
      }
     ],
     "prompt_number": 467
    },
    {
     "cell_type": "code",
     "collapsed": false,
     "input": [
      "##Function in Feistel Round\n",
      "def fk(R,rkey):\n",
      "    Rexp=''\n",
      "    C=''\n",
      "    fkR=''\n",
      "    fnum=''\n",
      "    x=y=count=0\n",
      "    for i in EXPFUN:\n",
      "        Rexp+=R[i-1]\n",
      "    B=xor_str(Rexp,rkey)\n",
      "    for i in range(0,len(B),6):\n",
      "        x=int(B[i]+B[i+5],2)\n",
      "        y=int(B[i+1:i+5],2)\n",
      "        fnum=bin(SBOX[count][x][y])[2:]\n",
      "        while len(fnum)<4:\n",
      "            fnum='0'+fnum\n",
      "        C+=fnum\n",
      "        count +=1\n",
      "    for i in PFROUND:\n",
      "        fkR+=C[i-1]\n",
      "    return fkR\n",
      "        "
     ],
     "language": "python",
     "metadata": {},
     "outputs": [],
     "prompt_number": 468
    },
    {
     "cell_type": "code",
     "collapsed": false,
     "input": [
      "xor_str(L0,fk(R0,rkey))"
     ],
     "language": "python",
     "metadata": {},
     "outputs": [
      {
       "metadata": {},
       "output_type": "pyout",
       "prompt_number": 469,
       "text": [
        "'11101111010010100110010101000100'"
       ]
      }
     ],
     "prompt_number": 469
    },
    {
     "cell_type": "code",
     "collapsed": false,
     "input": [
      "def DES(key,ptext):\n",
      "    ctext=''\n",
      "    L,R=ini_ptext(ptext)\n",
      "    C0,D0=C0_D0_key(key)\n",
      "    for i in range(16):\n",
      "        round_key=key_round(C0,D0,i+1)\n",
      "        L,R = R,xor_str(L,fk(R,round_key))\n",
      "    for i in PF:\n",
      "        ctext+=(R+L)[i-1]    \n",
      "    return ctext         "
     ],
     "language": "python",
     "metadata": {},
     "outputs": [],
     "prompt_number": 470
    },
    {
     "cell_type": "code",
     "collapsed": false,
     "input": [
      "DES(key,mess)"
     ],
     "language": "python",
     "metadata": {},
     "outputs": [
      {
       "metadata": {},
       "output_type": "pyout",
       "prompt_number": 471,
       "text": [
        "'1000010111101000000100110101010000001111000010101011010000000101'"
       ]
      }
     ],
     "prompt_number": 471
    },
    {
     "cell_type": "code",
     "collapsed": false,
     "input": [],
     "language": "python",
     "metadata": {},
     "outputs": [],
     "prompt_number": 471
    },
    {
     "cell_type": "code",
     "collapsed": false,
     "input": [],
     "language": "python",
     "metadata": {},
     "outputs": []
    }
   ],
   "metadata": {}
  }
 ]
}